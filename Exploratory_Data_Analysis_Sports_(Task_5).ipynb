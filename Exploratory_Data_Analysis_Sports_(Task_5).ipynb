{
 "cells": [
  {
   "cell_type": "markdown",
   "id": "99185283",
   "metadata": {
    "id": "included-china"
   },
   "source": [
    "<font color='orange'><h1>Task 5 : Exploratory Data Analysis - Sports</h1></font>\n",
    "\n",
    "\n",
    "### Name :Utkarsha Sathe\n",
    "\n"
   ]
  },
  {
   "cell_type": "code",
   "execution_count": null,
   "id": "a1832a4e",
   "metadata": {
    "id": "engaged-blackberry"
   },
   "outputs": [],
   "source": [
    "# importing main libraries which are going to useable throughout the analysis.\n",
    "\n",
    "import numpy as np\n",
    "import pandas as pd\n",
    "import matplotlib.pyplot as plt\n",
    "import seaborn as sns\n",
    "\n",
    "%matplotlib inline"
   ]
  },
  {
   "cell_type": "code",
   "execution_count": null,
   "id": "0298a075",
   "metadata": {
    "id": "advised-arctic",
    "outputId": "4503e2b5-1ac6-466a-f03b-d4043dfaac38"
   },
   "outputs": [
    {
     "data": {
      "text/html": [
       "<div>\n",
       "<style scoped>\n",
       "    .dataframe tbody tr th:only-of-type {\n",
       "        vertical-align: middle;\n",
       "    }\n",
       "\n",
       "    .dataframe tbody tr th {\n",
       "        vertical-align: top;\n",
       "    }\n",
       "\n",
       "    .dataframe thead th {\n",
       "        text-align: right;\n",
       "    }\n",
       "</style>\n",
       "<table border=\"1\" class=\"dataframe\">\n",
       "  <thead>\n",
       "    <tr style=\"text-align: right;\">\n",
       "      <th></th>\n",
       "      <th>id</th>\n",
       "      <th>season</th>\n",
       "      <th>city</th>\n",
       "      <th>date</th>\n",
       "      <th>team1</th>\n",
       "      <th>team2</th>\n",
       "      <th>toss_winner</th>\n",
       "      <th>toss_decision</th>\n",
       "      <th>result</th>\n",
       "      <th>dl_applied</th>\n",
       "      <th>winner</th>\n",
       "      <th>win_by_runs</th>\n",
       "      <th>win_by_wickets</th>\n",
       "      <th>player_of_match</th>\n",
       "      <th>venue</th>\n",
       "      <th>umpire1</th>\n",
       "      <th>umpire2</th>\n",
       "      <th>umpire3</th>\n",
       "    </tr>\n",
       "  </thead>\n",
       "  <tbody>\n",
       "    <tr>\n",
       "      <th>0</th>\n",
       "      <td>1</td>\n",
       "      <td>2017</td>\n",
       "      <td>Hyderabad</td>\n",
       "      <td>2017-04-05</td>\n",
       "      <td>Sunrisers Hyderabad</td>\n",
       "      <td>Royal Challengers Bangalore</td>\n",
       "      <td>Royal Challengers Bangalore</td>\n",
       "      <td>field</td>\n",
       "      <td>normal</td>\n",
       "      <td>0</td>\n",
       "      <td>Sunrisers Hyderabad</td>\n",
       "      <td>35</td>\n",
       "      <td>0</td>\n",
       "      <td>Yuvraj Singh</td>\n",
       "      <td>Rajiv Gandhi International Stadium, Uppal</td>\n",
       "      <td>AY Dandekar</td>\n",
       "      <td>NJ Llong</td>\n",
       "      <td>NaN</td>\n",
       "    </tr>\n",
       "    <tr>\n",
       "      <th>1</th>\n",
       "      <td>2</td>\n",
       "      <td>2017</td>\n",
       "      <td>Pune</td>\n",
       "      <td>2017-04-06</td>\n",
       "      <td>Mumbai Indians</td>\n",
       "      <td>Rising Pune Supergiant</td>\n",
       "      <td>Rising Pune Supergiant</td>\n",
       "      <td>field</td>\n",
       "      <td>normal</td>\n",
       "      <td>0</td>\n",
       "      <td>Rising Pune Supergiant</td>\n",
       "      <td>0</td>\n",
       "      <td>7</td>\n",
       "      <td>SPD Smith</td>\n",
       "      <td>Maharashtra Cricket Association Stadium</td>\n",
       "      <td>A Nand Kishore</td>\n",
       "      <td>S Ravi</td>\n",
       "      <td>NaN</td>\n",
       "    </tr>\n",
       "    <tr>\n",
       "      <th>2</th>\n",
       "      <td>3</td>\n",
       "      <td>2017</td>\n",
       "      <td>Rajkot</td>\n",
       "      <td>2017-04-07</td>\n",
       "      <td>Gujarat Lions</td>\n",
       "      <td>Kolkata Knight Riders</td>\n",
       "      <td>Kolkata Knight Riders</td>\n",
       "      <td>field</td>\n",
       "      <td>normal</td>\n",
       "      <td>0</td>\n",
       "      <td>Kolkata Knight Riders</td>\n",
       "      <td>0</td>\n",
       "      <td>10</td>\n",
       "      <td>CA Lynn</td>\n",
       "      <td>Saurashtra Cricket Association Stadium</td>\n",
       "      <td>Nitin Menon</td>\n",
       "      <td>CK Nandan</td>\n",
       "      <td>NaN</td>\n",
       "    </tr>\n",
       "    <tr>\n",
       "      <th>3</th>\n",
       "      <td>4</td>\n",
       "      <td>2017</td>\n",
       "      <td>Indore</td>\n",
       "      <td>2017-04-08</td>\n",
       "      <td>Rising Pune Supergiant</td>\n",
       "      <td>Kings XI Punjab</td>\n",
       "      <td>Kings XI Punjab</td>\n",
       "      <td>field</td>\n",
       "      <td>normal</td>\n",
       "      <td>0</td>\n",
       "      <td>Kings XI Punjab</td>\n",
       "      <td>0</td>\n",
       "      <td>6</td>\n",
       "      <td>GJ Maxwell</td>\n",
       "      <td>Holkar Cricket Stadium</td>\n",
       "      <td>AK Chaudhary</td>\n",
       "      <td>C Shamshuddin</td>\n",
       "      <td>NaN</td>\n",
       "    </tr>\n",
       "    <tr>\n",
       "      <th>4</th>\n",
       "      <td>5</td>\n",
       "      <td>2017</td>\n",
       "      <td>Bangalore</td>\n",
       "      <td>2017-04-08</td>\n",
       "      <td>Royal Challengers Bangalore</td>\n",
       "      <td>Delhi Daredevils</td>\n",
       "      <td>Royal Challengers Bangalore</td>\n",
       "      <td>bat</td>\n",
       "      <td>normal</td>\n",
       "      <td>0</td>\n",
       "      <td>Royal Challengers Bangalore</td>\n",
       "      <td>15</td>\n",
       "      <td>0</td>\n",
       "      <td>KM Jadhav</td>\n",
       "      <td>M Chinnaswamy Stadium</td>\n",
       "      <td>NaN</td>\n",
       "      <td>NaN</td>\n",
       "      <td>NaN</td>\n",
       "    </tr>\n",
       "  </tbody>\n",
       "</table>\n",
       "</div>"
      ],
      "text/plain": [
       "   id  season       city        date                        team1  \\\n",
       "0   1    2017  Hyderabad  2017-04-05          Sunrisers Hyderabad   \n",
       "1   2    2017       Pune  2017-04-06               Mumbai Indians   \n",
       "2   3    2017     Rajkot  2017-04-07                Gujarat Lions   \n",
       "3   4    2017     Indore  2017-04-08       Rising Pune Supergiant   \n",
       "4   5    2017  Bangalore  2017-04-08  Royal Challengers Bangalore   \n",
       "\n",
       "                         team2                  toss_winner toss_decision  \\\n",
       "0  Royal Challengers Bangalore  Royal Challengers Bangalore         field   \n",
       "1       Rising Pune Supergiant       Rising Pune Supergiant         field   \n",
       "2        Kolkata Knight Riders        Kolkata Knight Riders         field   \n",
       "3              Kings XI Punjab              Kings XI Punjab         field   \n",
       "4             Delhi Daredevils  Royal Challengers Bangalore           bat   \n",
       "\n",
       "   result  dl_applied                       winner  win_by_runs  \\\n",
       "0  normal           0          Sunrisers Hyderabad           35   \n",
       "1  normal           0       Rising Pune Supergiant            0   \n",
       "2  normal           0        Kolkata Knight Riders            0   \n",
       "3  normal           0              Kings XI Punjab            0   \n",
       "4  normal           0  Royal Challengers Bangalore           15   \n",
       "\n",
       "   win_by_wickets player_of_match                                      venue  \\\n",
       "0               0    Yuvraj Singh  Rajiv Gandhi International Stadium, Uppal   \n",
       "1               7       SPD Smith    Maharashtra Cricket Association Stadium   \n",
       "2              10         CA Lynn     Saurashtra Cricket Association Stadium   \n",
       "3               6      GJ Maxwell                     Holkar Cricket Stadium   \n",
       "4               0       KM Jadhav                      M Chinnaswamy Stadium   \n",
       "\n",
       "          umpire1        umpire2 umpire3  \n",
       "0     AY Dandekar       NJ Llong     NaN  \n",
       "1  A Nand Kishore         S Ravi     NaN  \n",
       "2     Nitin Menon      CK Nandan     NaN  \n",
       "3    AK Chaudhary  C Shamshuddin     NaN  \n",
       "4             NaN            NaN     NaN  "
      ]
     },
     "execution_count": 2,
     "metadata": {
      "tags": []
     },
     "output_type": "execute_result"
    }
   ],
   "source": [
    "#Lets import the dataset from local drive.\n",
    "\n",
    "match = pd.read_csv(r\"matches.csv\")\n",
    "match.head()"
   ]
  },
  {
   "cell_type": "code",
   "execution_count": null,
   "id": "8b002c12",
   "metadata": {
    "id": "declared-currency",
    "outputId": "eabf4b74-579f-4ad9-d7be-174423afe8d1"
   },
   "outputs": [
    {
     "data": {
      "text/plain": [
       "(756, 18)"
      ]
     },
     "execution_count": 3,
     "metadata": {
      "tags": []
     },
     "output_type": "execute_result"
    }
   ],
   "source": [
    "# Lets see the shape of the dataset\n",
    "match.shape"
   ]
  },
  {
   "cell_type": "code",
   "execution_count": null,
   "id": "08a64e77",
   "metadata": {
    "id": "dried-crystal",
    "outputId": "617a24e9-8157-4cac-cad3-fb985828fd71"
   },
   "outputs": [
    {
     "data": {
      "text/html": [
       "<div>\n",
       "<style scoped>\n",
       "    .dataframe tbody tr th:only-of-type {\n",
       "        vertical-align: middle;\n",
       "    }\n",
       "\n",
       "    .dataframe tbody tr th {\n",
       "        vertical-align: top;\n",
       "    }\n",
       "\n",
       "    .dataframe thead th {\n",
       "        text-align: right;\n",
       "    }\n",
       "</style>\n",
       "<table border=\"1\" class=\"dataframe\">\n",
       "  <thead>\n",
       "    <tr style=\"text-align: right;\">\n",
       "      <th></th>\n",
       "      <th>id</th>\n",
       "      <th>season</th>\n",
       "      <th>dl_applied</th>\n",
       "      <th>win_by_runs</th>\n",
       "      <th>win_by_wickets</th>\n",
       "    </tr>\n",
       "  </thead>\n",
       "  <tbody>\n",
       "    <tr>\n",
       "      <th>count</th>\n",
       "      <td>756.000000</td>\n",
       "      <td>756.000000</td>\n",
       "      <td>756.000000</td>\n",
       "      <td>756.000000</td>\n",
       "      <td>756.000000</td>\n",
       "    </tr>\n",
       "    <tr>\n",
       "      <th>mean</th>\n",
       "      <td>1792.178571</td>\n",
       "      <td>2013.444444</td>\n",
       "      <td>0.025132</td>\n",
       "      <td>13.283069</td>\n",
       "      <td>3.350529</td>\n",
       "    </tr>\n",
       "    <tr>\n",
       "      <th>std</th>\n",
       "      <td>3464.478148</td>\n",
       "      <td>3.366895</td>\n",
       "      <td>0.156630</td>\n",
       "      <td>23.471144</td>\n",
       "      <td>3.387963</td>\n",
       "    </tr>\n",
       "    <tr>\n",
       "      <th>min</th>\n",
       "      <td>1.000000</td>\n",
       "      <td>2008.000000</td>\n",
       "      <td>0.000000</td>\n",
       "      <td>0.000000</td>\n",
       "      <td>0.000000</td>\n",
       "    </tr>\n",
       "    <tr>\n",
       "      <th>25%</th>\n",
       "      <td>189.750000</td>\n",
       "      <td>2011.000000</td>\n",
       "      <td>0.000000</td>\n",
       "      <td>0.000000</td>\n",
       "      <td>0.000000</td>\n",
       "    </tr>\n",
       "    <tr>\n",
       "      <th>50%</th>\n",
       "      <td>378.500000</td>\n",
       "      <td>2013.000000</td>\n",
       "      <td>0.000000</td>\n",
       "      <td>0.000000</td>\n",
       "      <td>4.000000</td>\n",
       "    </tr>\n",
       "    <tr>\n",
       "      <th>75%</th>\n",
       "      <td>567.250000</td>\n",
       "      <td>2016.000000</td>\n",
       "      <td>0.000000</td>\n",
       "      <td>19.000000</td>\n",
       "      <td>6.000000</td>\n",
       "    </tr>\n",
       "    <tr>\n",
       "      <th>max</th>\n",
       "      <td>11415.000000</td>\n",
       "      <td>2019.000000</td>\n",
       "      <td>1.000000</td>\n",
       "      <td>146.000000</td>\n",
       "      <td>10.000000</td>\n",
       "    </tr>\n",
       "  </tbody>\n",
       "</table>\n",
       "</div>"
      ],
      "text/plain": [
       "                 id       season  dl_applied  win_by_runs  win_by_wickets\n",
       "count    756.000000   756.000000  756.000000   756.000000      756.000000\n",
       "mean    1792.178571  2013.444444    0.025132    13.283069        3.350529\n",
       "std     3464.478148     3.366895    0.156630    23.471144        3.387963\n",
       "min        1.000000  2008.000000    0.000000     0.000000        0.000000\n",
       "25%      189.750000  2011.000000    0.000000     0.000000        0.000000\n",
       "50%      378.500000  2013.000000    0.000000     0.000000        4.000000\n",
       "75%      567.250000  2016.000000    0.000000    19.000000        6.000000\n",
       "max    11415.000000  2019.000000    1.000000   146.000000       10.000000"
      ]
     },
     "execution_count": 4,
     "metadata": {
      "tags": []
     },
     "output_type": "execute_result"
    }
   ],
   "source": [
    "# Lets look the view of dataset by description()\n",
    "match.describe()"
   ]
  },
  {
   "cell_type": "code",
   "execution_count": null,
   "id": "fbef79bb",
   "metadata": {
    "id": "banned-instrument",
    "outputId": "ac7c2284-6596-47ac-9696-684c319df8d7"
   },
   "outputs": [
    {
     "name": "stdout",
     "output_type": "stream",
     "text": [
      "<class 'pandas.core.frame.DataFrame'>\n",
      "RangeIndex: 756 entries, 0 to 755\n",
      "Data columns (total 18 columns):\n",
      " #   Column           Non-Null Count  Dtype \n",
      "---  ------           --------------  ----- \n",
      " 0   id               756 non-null    int64 \n",
      " 1   season           756 non-null    int64 \n",
      " 2   city             749 non-null    object\n",
      " 3   date             756 non-null    object\n",
      " 4   team1            756 non-null    object\n",
      " 5   team2            756 non-null    object\n",
      " 6   toss_winner      756 non-null    object\n",
      " 7   toss_decision    756 non-null    object\n",
      " 8   result           756 non-null    object\n",
      " 9   dl_applied       756 non-null    int64 \n",
      " 10  winner           752 non-null    object\n",
      " 11  win_by_runs      756 non-null    int64 \n",
      " 12  win_by_wickets   756 non-null    int64 \n",
      " 13  player_of_match  752 non-null    object\n",
      " 14  venue            756 non-null    object\n",
      " 15  umpire1          754 non-null    object\n",
      " 16  umpire2          754 non-null    object\n",
      " 17  umpire3          119 non-null    object\n",
      "dtypes: int64(5), object(13)\n",
      "memory usage: 106.4+ KB\n"
     ]
    }
   ],
   "source": [
    "# Lets take a look of the info of dataset\n",
    "match.info()"
   ]
  },
  {
   "cell_type": "code",
   "execution_count": null,
   "id": "86f284d0",
   "metadata": {
    "id": "explicit-baking",
    "outputId": "6d21c8f6-2828-4c72-e84f-4d11f011f727"
   },
   "outputs": [
    {
     "data": {
      "text/plain": [
       "array(['Sunrisers Hyderabad', 'Mumbai Indians', 'Gujarat Lions',\n",
       "       'Rising Pune Supergiant', 'Royal Challengers Bangalore',\n",
       "       'Kolkata Knight Riders', 'Delhi Daredevils', 'Kings XI Punjab',\n",
       "       'Chennai Super Kings', 'Rajasthan Royals', 'Deccan Chargers',\n",
       "       'Kochi Tuskers Kerala', 'Pune Warriors', 'Rising Pune Supergiants',\n",
       "       'Delhi Capitals'], dtype=object)"
      ]
     },
     "execution_count": 6,
     "metadata": {
      "tags": []
     },
     "output_type": "execute_result"
    }
   ],
   "source": [
    "match['team1'].unique()"
   ]
  },
  {
   "cell_type": "markdown",
   "id": "b46aaa27",
   "metadata": {
    "id": "responsible-boating"
   },
   "source": [
    "<font color = \"lightgreen\"><h3>As per the above information, \"Rising Pune Supergiant\" and \"Rising Pune Supergiants\" two names have been found for \"Rising Pune Supergiants\" so we need to correct it.</h3></font>"
   ]
  },
  {
   "cell_type": "markdown",
   "id": "d3b9bc2d",
   "metadata": {
    "id": "enhanced-slope"
   },
   "source": [
    "<font color = \"lightgreen\"><h3>\"Rising Pune Supergiants\" need to update in \"team1\",\"team2\",\"toss_winner\",\"winner\" collumns from \"matches.csv\" and \"batting_team\" column in \"deliveries.csv\". So lets do it as following.</h3></font>"
   ]
  },
  {
   "cell_type": "code",
   "execution_count": null,
   "id": "882035d7",
   "metadata": {
    "id": "ranging-documentation"
   },
   "outputs": [],
   "source": [
    "# Lets correct the team name from \"Rising Pune Supergiant\" to \"Rising Pune Supergiants\" as per above listed columns.\n",
    "\n",
    "#df['column name'] = df['column name'].replace(['old value'],'new value')\n",
    "match['team1'] = match['team1'].replace(['Rising Pune Supergiant'],'Rising Pune Supergiants')\n",
    "match['team2'] = match['team2'].replace(['Rising Pune Supergiant'],'Rising Pune Supergiants')\n",
    "match['toss_winner'] = match['toss_winner'].replace(['Rising Pune Supergiant'],'Rising Pune Supergiants')\n",
    "match['winner'] = match['winner'].replace(['Rising Pune Supergiant'],'Rising Pune Supergiants')"
   ]
  },
  {
   "cell_type": "code",
   "execution_count": null,
   "id": "78fa1654",
   "metadata": {
    "id": "lovely-complex",
    "outputId": "37f5a80f-5b43-4396-cd0e-e550f114cddc"
   },
   "outputs": [
    {
     "data": {
      "text/plain": [
       "id                   0\n",
       "season               0\n",
       "city                 7\n",
       "date                 0\n",
       "team1                0\n",
       "team2                0\n",
       "toss_winner          0\n",
       "toss_decision        0\n",
       "result               0\n",
       "dl_applied           0\n",
       "winner               4\n",
       "win_by_runs          0\n",
       "win_by_wickets       0\n",
       "player_of_match      4\n",
       "venue                0\n",
       "umpire1              2\n",
       "umpire2              2\n",
       "umpire3            637\n",
       "dtype: int64"
      ]
     },
     "execution_count": 8,
     "metadata": {
      "tags": []
     },
     "output_type": "execute_result"
    }
   ],
   "source": [
    "# Lets find the null values in the dataset.\n",
    "match.isnull().sum()"
   ]
  },
  {
   "cell_type": "markdown",
   "id": "aa5f61de",
   "metadata": {
    "id": "automotive-prefix"
   },
   "source": [
    "<font color = \"lightgreen\"><h3>As per above list, We can clearly see that \"City\" have 7 null values, while \"winner\", \"player_of_match\", \"umpire1\", \"umpire2\" and \"umpire3\" have 4, 4, 2, 2 and 637 null values respectively. So lets fill the null values with \"N/A\" as per following.</h3></font>"
   ]
  },
  {
   "cell_type": "code",
   "execution_count": null,
   "id": "0c40fcd9",
   "metadata": {
    "id": "stainless-venue"
   },
   "outputs": [],
   "source": [
    "# Lets fill the null values\n",
    "\n",
    "match['city'] = match['city'].fillna('N/A')\n",
    "match['winner'] = match['winner'].fillna('N/A')\n",
    "match['player_of_match'] = match['player_of_match'].fillna(\"N/A\")\n",
    "match['umpire1'] = match['umpire1'].fillna('N/A')\n",
    "match['umpire2'] = match['umpire2'].fillna('N/A')\n",
    "match['umpire3'] = match['umpire3'].fillna('N/A')"
   ]
  },
  {
   "cell_type": "code",
   "execution_count": null,
   "id": "e0558113",
   "metadata": {
    "id": "confident-tomato",
    "outputId": "7e381264-0198-4383-ce4d-e115dae68ae7"
   },
   "outputs": [
    {
     "data": {
      "text/plain": [
       "id                 0\n",
       "season             0\n",
       "city               0\n",
       "date               0\n",
       "team1              0\n",
       "team2              0\n",
       "toss_winner        0\n",
       "toss_decision      0\n",
       "result             0\n",
       "dl_applied         0\n",
       "winner             0\n",
       "win_by_runs        0\n",
       "win_by_wickets     0\n",
       "player_of_match    0\n",
       "venue              0\n",
       "umpire1            0\n",
       "umpire2            0\n",
       "umpire3            0\n",
       "dtype: int64"
      ]
     },
     "execution_count": 10,
     "metadata": {
      "tags": []
     },
     "output_type": "execute_result"
    }
   ],
   "source": [
    "# After filling null values, Now, Lets check weather the datatset have any null values in to it or not.\n",
    "match.isnull().sum()"
   ]
  },
  {
   "cell_type": "markdown",
   "id": "765efc1a",
   "metadata": {
    "id": "formed-alert"
   },
   "source": [
    "<font color = \"orange\"><h1>Lets analyse \"Man of The Match\" award winner.</h1></font>"
   ]
  },
  {
   "cell_type": "code",
   "execution_count": null,
   "id": "de091d21",
   "metadata": {
    "id": "czech-triple",
    "outputId": "970f2453-309f-4371-de66-fa77c0327de5"
   },
   "outputs": [
    {
     "data": {
      "text/plain": [
       "CH Gayle          21\n",
       "AB de Villiers    20\n",
       "DA Warner         17\n",
       "RG Sharma         17\n",
       "MS Dhoni          17\n",
       "                  ..\n",
       "P Shaw             1\n",
       "R Bhatia           1\n",
       "MD Mishra          1\n",
       "TM Dilshan         1\n",
       "S Sreesanth        1\n",
       "Name: player_of_match, Length: 227, dtype: int64"
      ]
     },
     "execution_count": 11,
     "metadata": {
      "tags": []
     },
     "output_type": "execute_result"
    }
   ],
   "source": [
    "Man_of_The_Match = match['player_of_match'].value_counts()\n",
    "Man_of_The_Match"
   ]
  },
  {
   "cell_type": "markdown",
   "id": "6618813b",
   "metadata": {
    "id": "protective-limitation"
   },
   "source": [
    "<font color = \"orange\"><h3>Lets analyse Mostly selected top 10 Man Of The Match Candidates from the availabe data. </h3></font>"
   ]
  },
  {
   "cell_type": "code",
   "execution_count": null,
   "id": "7b41032c",
   "metadata": {
    "id": "worst-modeling",
    "outputId": "f969c6c9-8755-4dd6-becb-70017df8ac6e"
   },
   "outputs": [
    {
     "data": {
      "text/plain": [
       "CH Gayle          21\n",
       "AB de Villiers    20\n",
       "DA Warner         17\n",
       "RG Sharma         17\n",
       "MS Dhoni          17\n",
       "YK Pathan         16\n",
       "SR Watson         15\n",
       "SK Raina          14\n",
       "G Gambhir         13\n",
       "V Kohli           12\n",
       "Name: player_of_match, dtype: int64"
      ]
     },
     "execution_count": 12,
     "metadata": {
      "tags": []
     },
     "output_type": "execute_result"
    }
   ],
   "source": [
    "top_Man_Of_The_Match = Man_of_The_Match.head(10)\n",
    "top_Man_Of_The_Match"
   ]
  },
  {
   "cell_type": "markdown",
   "id": "caa210ca",
   "metadata": {
    "id": "reliable-father"
   },
   "source": [
    "<font color = \"orange\"><h3>Lets visualize the above analysed data into the bar graph.</h3></font>"
   ]
  },
  {
   "cell_type": "code",
   "execution_count": null,
   "id": "b956ff5a",
   "metadata": {
    "id": "postal-raise",
    "outputId": "58d238aa-b172-4d09-e444-faf191136adf"
   },
   "outputs": [
    {
     "data": {
      "image/png": "[encoded data removed]",
      "text/plain": [
       "<Figure size 720x360 with 1 Axes>"
      ]
     },
     "metadata": {
      "needs_background": "light",
      "tags": []
     },
     "output_type": "display_data"
    }
   ],
   "source": [
    "plt.figure(figsize=(10,5))\n",
    "\n",
    "x = top_Man_Of_The_Match.index\n",
    "y = top_Man_Of_The_Match.values\n",
    "\n",
    "plt.barh(x, y, color=['lightgreen','lightblue','lightblue','lightblue','lightblue','lightblue','lightblue','lightblue','lightblue','lightgray'], edgecolor='red')\n",
    "#sns.barplot(y,x)\n",
    "\n",
    "for x,y in enumerate(y):\n",
    "    plt.text(y,x,str(y))\n",
    "\n",
    "plt.xlim(0,25)\n",
    "plt.xlabel('Number of Man of The Match Awards', fontsize = 13)\n",
    "plt.ylabel('Player Names',fontsize=13)\n",
    "plt.title('Top 10 Man of The Match Players',fontsize=15)\n",
    "plt.show()"
   ]
  },
  {
   "cell_type": "markdown",
   "id": "5dae20b7",
   "metadata": {
    "id": "italic-queen"
   },
   "source": [
    "<font color=\"orange\"><h1>From the above graph we can say that.</h1></font>\n",
    "    \n",
    "####    -> \"Man Of The Match\" award has been presented to \"Chris Gayle\" for 21 times. Which is most time high frequency from available data at 1st rank.\n",
    "    \n",
    "####    -> \"AB de Villiers\" is just one more award back to the \"Chris Gayle\" in the competition of Man of The Match Awards. at 2nd rank.\n",
    "    \n",
    "####    -> While \"AM Rahane\" is at the 10th position on the \"Man of The Match\" chart board."
   ]
  },
  {
   "cell_type": "markdown",
   "id": "d4b9a1ed",
   "metadata": {
    "id": "fifteen-valley"
   },
   "source": [
    "<font color='orange'><h1>Lets present the above data in pie cart as well to see the result with another way</h1></font>"
   ]
  },
  {
   "cell_type": "code",
   "execution_count": null,
   "id": "d5ddfe98",
   "metadata": {
    "id": "czech-springfield",
    "outputId": "fc854ce5-112f-47c0-902a-9b5ee1a3684b"
   },
   "outputs": [
    {
     "data": {
      "image/png": "[encoded data removed]",
      "text/plain": [
       "<Figure size 360x360 with 1 Axes>"
      ]
     },
     "metadata": {
      "tags": []
     },
     "output_type": "display_data"
    }
   ],
   "source": [
    "# Lets analyse top 5 Players who are currently elegible for Man of The Match Award. \n",
    "\n",
    "x = top_Man_Of_The_Match.head(5).index\n",
    "y = top_Man_Of_The_Match.head(5).values\n",
    "ep = (0.1,0,0,0,0)\n",
    "\n",
    "fig, ax = plt.subplots(figsize=(5,5))\n",
    "\n",
    "ax.pie(y, explode=ep, labels=x, autopct='%1.1f%%',colors=['orange','gray','lightgray','lightgray','lightgray'],shadow=True)\n",
    "ax.axis('equal')\n",
    "plt.show()"
   ]
  },
  {
   "cell_type": "markdown",
   "id": "cc6e26da",
   "metadata": {
    "id": "latin-newman"
   },
   "source": [
    "### We have analysed for the top 5 players and got the result as per the above chart."
   ]
  },
  {
   "cell_type": "markdown",
   "id": "9a1ae949",
   "metadata": {
    "id": "exceptional-marina"
   },
   "source": [
    "<font color = \"orange\"><h2> Lets analyse the Match Results on different bases.</h2></font>"
   ]
  },
  {
   "cell_type": "code",
   "execution_count": null,
   "id": "02cfb3a5",
   "metadata": {
    "id": "pursuant-intake",
    "outputId": "8ea14beb-654b-4efe-9375-87d3efe7bda0"
   },
   "outputs": [
    {
     "data": {
      "text/plain": [
       "normal       743\n",
       "tie            9\n",
       "no result      4\n",
       "Name: result, dtype: int64"
      ]
     },
     "execution_count": 15,
     "metadata": {
      "tags": []
     },
     "output_type": "execute_result"
    }
   ],
   "source": [
    "# Analysis of general Match Results.\n",
    "Match_Results = match['result'].value_counts()\n",
    "Match_Results"
   ]
  },
  {
   "cell_type": "code",
   "execution_count": null,
   "id": "0017712c",
   "metadata": {
    "id": "mounted-shirt",
    "outputId": "ccfb360a-d888-4930-e851-db0b122578bd"
   },
   "outputs": [
    {
     "data": {
      "image/png": "[encoded data removed]",
      "text/plain": [
       "<Figure size 504x504 with 1 Axes>"
      ]
     },
     "metadata": {
      "tags": []
     },
     "output_type": "display_data"
    }
   ],
   "source": [
    "# Lets analyse the match Results in a graphical way. \n",
    "\n",
    "x = Match_Results.index\n",
    "y = Match_Results.values\n",
    "ep = (0,0.2,0.5)\n",
    "\n",
    "fig, ax = plt.subplots(figsize=(7,7))\n",
    "ax.pie(y, explode=ep, labels=x, autopct='%1.1f%%',shadow=False,center=(0,1),colors=['lightgreen','yellow','red'])\n",
    "ax.axis('equal')\n",
    "plt.title(\"Match results analysis\", fontsize=15)\n",
    "plt.show()"
   ]
  },
  {
   "cell_type": "markdown",
   "id": "024c7c98",
   "metadata": {
    "id": "convertible-indiana"
   },
   "source": [
    "#### From the above visualization we can say that overall 0.5% of matches had \"no results\" while only 1.2% of matched has been declared as \"tie\"."
   ]
  },
  {
   "cell_type": "code",
   "execution_count": null,
   "id": "022f26ac",
   "metadata": {
    "id": "judicial-million",
    "outputId": "60c51f3f-90eb-46a6-c7cd-6c78e942f03c"
   },
   "outputs": [
    {
     "data": {
      "image/png": "[encoded data removed]",
      "text/plain": [
       "<Figure size 504x360 with 1 Axes>"
      ]
     },
     "metadata": {
      "needs_background": "light",
      "tags": []
     },
     "output_type": "display_data"
    }
   ],
   "source": [
    "plt.figure(figsize=(7,5))\n",
    "\n",
    "x = Match_Results.index\n",
    "y = Match_Results.values\n",
    "\n",
    "plt.bar(x, y, align='center', alpha=0.5, color=['lightgreen','yellow','red'], edgecolor='red')\n",
    "\n",
    "for x,y in enumerate(y):\n",
    "    plt.text(x,y,str(y))\n",
    "    \n",
    "plt.xlabel('Match Results',fontsize=13)\n",
    "plt.ylabel('Number of Matches',fontsize=13)\n",
    "plt.title('Match Results Graph',fontsize=15)\n",
    "plt.show()"
   ]
  },
  {
   "cell_type": "code",
   "execution_count": null,
   "id": "9e480525",
   "metadata": {
    "id": "covered-commonwealth"
   },
   "outputs": [],
   "source": []
  },
  {
   "cell_type": "markdown",
   "id": "3eb55019",
   "metadata": {
    "id": "promising-border"
   },
   "source": [
    "## Analysing the Teams choose to Bat or Field after Won the Toss"
   ]
  },
  {
   "cell_type": "code",
   "execution_count": null,
   "id": "994f2ba8",
   "metadata": {
    "id": "bacterial-retro",
    "outputId": "401cd19d-d1d2-4ce9-ef3f-fb28d1e092b2"
   },
   "outputs": [
    {
     "data": {
      "text/plain": [
       "field    463\n",
       "bat      293\n",
       "Name: toss_decision, dtype: int64"
      ]
     },
     "execution_count": 18,
     "metadata": {
      "tags": []
     },
     "output_type": "execute_result"
    }
   ],
   "source": [
    "Toss = match['toss_decision'].value_counts()\n",
    "Toss"
   ]
  },
  {
   "cell_type": "code",
   "execution_count": null,
   "id": "843ab230",
   "metadata": {
    "id": "imported-entrepreneur",
    "outputId": "71843a79-e7ea-45f4-bba6-192f97d15728"
   },
   "outputs": [
    {
     "data": {
      "image/png": "[encoded data removed]",
      "text/plain": [
       "<Figure size 360x360 with 1 Axes>"
      ]
     },
     "metadata": {
      "tags": []
     },
     "output_type": "display_data"
    }
   ],
   "source": [
    "# Lets plot the pie plot for above data\n",
    "plt.figure(figsize=(5,5))\n",
    "plt.pie(Toss,labels=np.array(Toss.index),startangle=90,autopct=\"%1.1f%%\",colors=['orange','lightgray'])\n",
    "plt.title(\"Toss Results\",fontsize=15)\n",
    "plt.show()"
   ]
  },
  {
   "cell_type": "code",
   "execution_count": null,
   "id": "eec9cbc1",
   "metadata": {
    "id": "disabled-taste"
   },
   "outputs": [],
   "source": [
    "# Lets analyse the Results of Toss"
   ]
  },
  {
   "cell_type": "code",
   "execution_count": null,
   "id": "4e7bb2cb",
   "metadata": {
    "id": "super-shape",
    "outputId": "f57e4f8f-445d-4ac2-c61d-8a2eb7a24a98"
   },
   "outputs": [
    {
     "data": {
      "text/plain": [
       "Mumbai Indians                 98\n",
       "Kolkata Knight Riders          92\n",
       "Chennai Super Kings            89\n",
       "Royal Challengers Bangalore    81\n",
       "Kings XI Punjab                81\n",
       "Delhi Daredevils               80\n",
       "Rajasthan Royals               80\n",
       "Sunrisers Hyderabad            46\n",
       "Deccan Chargers                43\n",
       "Pune Warriors                  20\n",
       "Gujarat Lions                  15\n",
       "Rising Pune Supergiants        13\n",
       "Delhi Capitals                 10\n",
       "Kochi Tuskers Kerala            8\n",
       "Name: toss_winner, dtype: int64"
      ]
     },
     "execution_count": 21,
     "metadata": {
      "tags": []
     },
     "output_type": "execute_result"
    }
   ],
   "source": [
    "# Toss winner Teams\n",
    "\n",
    "Toss_Win = match['toss_winner'].value_counts()\n",
    "Toss_Win"
   ]
  },
  {
   "cell_type": "code",
   "execution_count": null,
   "id": "0538f312",
   "metadata": {
    "id": "seasonal-rebecca",
    "outputId": "57b06f4c-d236-4d86-9846-78f9827811ed"
   },
   "outputs": [
    {
     "data": {
      "image/png": "[encoded data removed]",
      "text/plain": [
       "<Figure size 1008x360 with 1 Axes>"
      ]
     },
     "metadata": {
      "needs_background": "light",
      "tags": []
     },
     "output_type": "display_data"
    }
   ],
   "source": [
    "plt.figure(figsize=(14,5))\n",
    "\n",
    "x = Toss_Win.index\n",
    "y = Toss_Win.values\n",
    "\n",
    "plt.barh(x, y, alpha=0.5, color='lightblue', edgecolor='red')\n",
    "\n",
    "for x,y in enumerate(y):\n",
    "    plt.text(y,x,str(y))\n",
    "    \n",
    "plt.xlabel('Toss Frequency',fontsize=13)\n",
    "plt.ylabel('Team Names',fontsize=13)\n",
    "plt.title('Toss Winning Graph',fontsize=15)\n",
    "\n",
    "plt.show()"
   ]
  },
  {
   "cell_type": "markdown",
   "id": "c574a9c2",
   "metadata": {
    "id": "baking-namibia"
   },
   "source": [
    "### From the above graphical representation, we can say that \"Mumbai Indians\" is the Team who Won the Highest Toss while \"Kochi Tuskers Kerala\" Won the all time less Toss ascompared to other Teams."
   ]
  },
  {
   "cell_type": "code",
   "execution_count": null,
   "id": "585a3351",
   "metadata": {
    "id": "intellectual-japan"
   },
   "outputs": [],
   "source": [
    "# Lets analyse the Teams who won by runs. "
   ]
  },
  {
   "cell_type": "code",
   "execution_count": null,
   "id": "1337cfb3",
   "metadata": {
    "id": "every-folks"
   },
   "outputs": [],
   "source": [
    "Won_Toss_Bat_First = match[match['toss_decision']=='bat']\n",
    "Won_Toss_Field_First = match[match['toss_decision']=='field']"
   ]
  },
  {
   "cell_type": "code",
   "execution_count": null,
   "id": "853877a0",
   "metadata": {
    "id": "right-anatomy"
   },
   "outputs": [],
   "source": [
    "Won_Toss_Bat_First_Won_By_Runs = Won_Toss_Bat_First[Won_Toss_Bat_First['win_by_runs']!=0]\n",
    "#Won_Toss_Bat_First_Won_By_Runs"
   ]
  },
  {
   "cell_type": "code",
   "execution_count": null,
   "id": "efcc19e5",
   "metadata": {
    "id": "promising-arlington"
   },
   "outputs": [],
   "source": [
    "Won_Toss_Bat_First_Won_By_Wickets = Won_Toss_Bat_First[Won_Toss_Bat_First['win_by_wickets']!=0]\n",
    "#Won_Toss_Bat_First_Won_By_Wickets"
   ]
  },
  {
   "cell_type": "code",
   "execution_count": null,
   "id": "83f8d9a0",
   "metadata": {
    "id": "naughty-pavilion"
   },
   "outputs": [],
   "source": [
    "Won_Toss_Field_First_Won_By_Runs = Won_Toss_Field_First[Won_Toss_Field_First['win_by_runs']!=0]\n",
    "#Won_Toss_Field_First_Won_By_Runs"
   ]
  },
  {
   "cell_type": "code",
   "execution_count": null,
   "id": "fa5c3298",
   "metadata": {
    "id": "fitted-lebanon"
   },
   "outputs": [],
   "source": [
    "Won_Toss_Field_First_Won_By_Wickets = Won_Toss_Field_First[Won_Toss_Field_First['win_by_wickets']!=0]\n",
    "#Won_Toss_Field_First_Won_By_Wickets"
   ]
  },
  {
   "cell_type": "code",
   "execution_count": null,
   "id": "1c46da6e",
   "metadata": {
    "id": "stopped-frederick",
    "outputId": "fce94dfb-ae49-4e97-b1b9-c5c3cbb11eee",
    "scrolled": true
   },
   "outputs": [
    {
     "name": "stdout",
     "output_type": "stream",
     "text": [
      "Won the Toss, Choose to Bat First and Won the Match by Runs :  normal    135\n",
      "Name: result, dtype: int64\n",
      "\n",
      "Won the Toss, Choose to Bat First and Won the Match by Wickets :  normal    153\n",
      "Name: result, dtype: int64\n",
      "\n",
      "Won the Toss, Choose to Field First and Won the Match by Runs :  normal    202\n",
      "Name: result, dtype: int64\n",
      "\n",
      "Won the Toss, Choose to Field First and Won the Match by Wickets :  normal    253\n",
      "Name: result, dtype: int64\n"
     ]
    }
   ],
   "source": [
    "WTBFWBR = Won_Toss_Bat_First_Won_By_Runs\n",
    "WTBFWBW = Won_Toss_Bat_First_Won_By_Wickets\n",
    "WTFFWBR = Won_Toss_Field_First_Won_By_Runs\n",
    "WTFFWBW = Won_Toss_Field_First_Won_By_Wickets\n",
    "\n",
    "print(\"Won the Toss, Choose to Bat First and Won the Match by Runs : \",WTBFWBR['result'].value_counts())\n",
    "print(\"\\nWon the Toss, Choose to Bat First and Won the Match by Wickets : \",WTBFWBW['result'].value_counts())\n",
    "print(\"\\nWon the Toss, Choose to Field First and Won the Match by Runs : \",WTFFWBR['result'].value_counts())\n",
    "print(\"\\nWon the Toss, Choose to Field First and Won the Match by Wickets : \",WTFFWBW['result'].value_counts())"
   ]
  },
  {
   "cell_type": "markdown",
   "id": "7613eeea",
   "metadata": {
    "id": "affected-cathedral"
   },
   "source": [
    "## Analysis of the Teams Won the Toss, Choose to Bat First and Won the Match by Runs"
   ]
  },
  {
   "cell_type": "code",
   "execution_count": null,
   "id": "00aada30",
   "metadata": {
    "id": "wrapped-birthday",
    "outputId": "5fa892da-0016-4ab1-db46-53f62af62814"
   },
   "outputs": [
    {
     "name": "stdout",
     "output_type": "stream",
     "text": [
      "Analysis of the Teams Won the Toss, Choose to Bat First and Won the Match by Runs :\n",
      "\n",
      " Chennai Super Kings            31\n",
      "Mumbai Indians                 24\n",
      "Kolkata Knight Riders          16\n",
      "Rajasthan Royals               14\n",
      "Delhi Daredevils               12\n",
      "Deccan Chargers                11\n",
      "Royal Challengers Bangalore     9\n",
      "Sunrisers Hyderabad             8\n",
      "Kings XI Punjab                 6\n",
      "Pune Warriors                   3\n",
      "Delhi Capitals                  1\n",
      "Name: toss_winner, dtype: int64\n"
     ]
    },
    {
     "data": {
      "image/png": "[encoded data removed]",
      "text/plain": [
       "<Figure size 864x360 with 1 Axes>"
      ]
     },
     "metadata": {
      "needs_background": "light",
      "tags": []
     },
     "output_type": "display_data"
    }
   ],
   "source": [
    "#WTBFWBR\n",
    "print(\"Analysis of the Teams Won the Toss, Choose to Bat First and Won the Match by Runs :\\n\\n\",WTBFWBR['toss_winner'].value_counts())\n",
    "\n",
    "plt.figure(figsize=(12,5))\n",
    "\n",
    "x = WTBFWBR['toss_winner'].value_counts().index\n",
    "y = WTBFWBR['toss_winner'].value_counts().values\n",
    "\n",
    "plt.barh(x, y, alpha=0.5, color=['lightgreen','lightblue','lightblue','lightblue','lightblue','lightblue','lightblue','lightblue','lightblue','lightblue'], edgecolor='red')\n",
    "\n",
    "for index, value in enumerate(y):\n",
    "    plt.text(value, index,str(value))\n",
    "    \n",
    "plt.xlabel('Matches Played',fontsize=13)\n",
    "plt.ylabel('Teams',fontsize=13)\n",
    "plt.title(\"Winning Graph of Teams Won the Toss, Choose to Bat First and Won the Match by Runs\",fontsize=15)\n",
    "plt.show()"
   ]
  },
  {
   "cell_type": "markdown",
   "id": "9c2962b9",
   "metadata": {
    "id": "relative-exploration"
   },
   "source": [
    "## Analysis of the Teams Won the Toss, Choose to Bat First and Won the Match by Wickets"
   ]
  },
  {
   "cell_type": "code",
   "execution_count": null,
   "id": "b3d2caa7",
   "metadata": {
    "id": "brutal-nancy",
    "outputId": "68a4cb5d-7f05-4e62-8390-98907daee263"
   },
   "outputs": [
    {
     "name": "stdout",
     "output_type": "stream",
     "text": [
      "\n",
      "Analysis of the Teams Won the Toss, Choose to Bat First and Won the Match by Wickets :\n",
      " Kings XI Punjab                20\n",
      "Mumbai Indians                 19\n",
      "Chennai Super Kings            17\n",
      "Rajasthan Royals               17\n",
      "Delhi Daredevils               16\n",
      "Kolkata Knight Riders          14\n",
      "Deccan Chargers                13\n",
      "Sunrisers Hyderabad            12\n",
      "Royal Challengers Bangalore    10\n",
      "Pune Warriors                   8\n",
      "Rising Pune Supergiants         3\n",
      "Kochi Tuskers Kerala            3\n",
      "Delhi Capitals                  1\n",
      "Name: toss_winner, dtype: int64\n"
     ]
    },
    {
     "data": {
      "image/png": "[encoded data removed]",
      "text/plain": [
       "<Figure size 864x360 with 1 Axes>"
      ]
     },
     "metadata": {
      "needs_background": "light",
      "tags": []
     },
     "output_type": "display_data"
    }
   ],
   "source": [
    "#WTBFWBW\n",
    "\n",
    "print(\"\\nAnalysis of the Teams Won the Toss, Choose to Bat First and Won the Match by Wickets :\\n\",WTBFWBW['toss_winner'].value_counts())\n",
    "\n",
    "plt.figure(figsize=(12,5))\n",
    "\n",
    "x = WTBFWBW['toss_winner'].value_counts().index\n",
    "y = WTBFWBW['toss_winner'].value_counts().values\n",
    "\n",
    "plt.barh(x, y, alpha=0.5, color=['lightgreen','lightblue','lightblue','lightblue','lightblue','lightblue','lightblue','lightblue','lightblue','lightblue'], edgecolor='red')\n",
    "\n",
    "for index, value in enumerate(y):\n",
    "    plt.text(value, index,str(value))\n",
    "    \n",
    "plt.xlim(0,23)\n",
    "plt.xlabel('Matches Played',fontsize=13)\n",
    "plt.ylabel('Teams',fontsize=13)\n",
    "plt.title(\"Winning Graph of Teams Won the Toss, Choose to Bat First and Won the Match by Wickets\",fontsize=15)\n",
    "plt.show()"
   ]
  },
  {
   "cell_type": "markdown",
   "id": "b1e259c7",
   "metadata": {
    "id": "middle-reporter"
   },
   "source": [
    "## Analysis of the Teams Won the Toss, Choose to Field First and Won the Match by Runs"
   ]
  },
  {
   "cell_type": "code",
   "execution_count": null,
   "id": "514d9c89",
   "metadata": {
    "id": "handled-client",
    "outputId": "a483c259-e96e-4292-ffa3-21b481cba4b4"
   },
   "outputs": [
    {
     "name": "stdout",
     "output_type": "stream",
     "text": [
      "\n",
      "Analysis of the Teams Won the Toss, Choose to Field First and Won the Match by Runs :\n",
      " Royal Challengers Bangalore    28\n",
      "Delhi Daredevils               27\n",
      "Kings XI Punjab                26\n",
      "Kolkata Knight Riders          24\n",
      "Mumbai Indians                 23\n",
      "Rajasthan Royals               19\n",
      "Chennai Super Kings            13\n",
      "Sunrisers Hyderabad            11\n",
      "Deccan Chargers                11\n",
      "Pune Warriors                   9\n",
      "Rising Pune Supergiants         4\n",
      "Gujarat Lions                   4\n",
      "Delhi Capitals                  2\n",
      "Kochi Tuskers Kerala            1\n",
      "Name: toss_winner, dtype: int64\n"
     ]
    },
    {
     "data": {
      "image/png": "[encoded data removed]",
      "text/plain": [
       "<Figure size 1008x360 with 1 Axes>"
      ]
     },
     "metadata": {
      "needs_background": "light",
      "tags": []
     },
     "output_type": "display_data"
    }
   ],
   "source": [
    "#WTFFWBR\n",
    "\n",
    "print(\"\\nAnalysis of the Teams Won the Toss, Choose to Field First and Won the Match by Runs :\\n\", WTFFWBR['toss_winner'].value_counts())\n",
    "\n",
    "plt.figure(figsize=(14,5))\n",
    "\n",
    "x = WTFFWBR['toss_winner'].value_counts().index\n",
    "y = WTFFWBR['toss_winner'].value_counts().values\n",
    "\n",
    "plt.barh(x, y, alpha=0.5, color='lightblue', edgecolor='red')\n",
    "\n",
    "for index, value in enumerate(y):\n",
    "    plt.text(value, index,str(value))\n",
    "    \n",
    "#plt.xlim(0,30)\n",
    "plt.xlabel('Matches Played',fontsize=13)\n",
    "plt.ylabel('Teams',fontsize=13)\n",
    "plt.title(\"Winning Graph of Teams Won the Toss, Choose to Field First and Won the Match by Runs\",fontsize=15)\n",
    "plt.show()"
   ]
  },
  {
   "cell_type": "markdown",
   "id": "143eb2ed",
   "metadata": {
    "id": "occupational-weekend"
   },
   "source": [
    "## Analysis of the Teams Won the Toss, Choose to Field First and Won the Match by Wickets"
   ]
  },
  {
   "cell_type": "code",
   "execution_count": null,
   "id": "62c2a7df",
   "metadata": {
    "id": "cathedral-monthly",
    "outputId": "a0173897-e85f-4a14-ae14-c28747606615"
   },
   "outputs": [
    {
     "name": "stdout",
     "output_type": "stream",
     "text": [
      "\n",
      "Analysis of the Teams Won the Toss, Choose to Field First and Won the Match by Wickets :\n",
      " Kolkata Knight Riders          37\n",
      "Royal Challengers Bangalore    31\n",
      "Mumbai Indians                 31\n",
      "Kings XI Punjab                28\n",
      "Chennai Super Kings            27\n",
      "Rajasthan Royals               27\n",
      "Delhi Daredevils               24\n",
      "Sunrisers Hyderabad            15\n",
      "Gujarat Lions                  10\n",
      "Deccan Chargers                 8\n",
      "Rising Pune Supergiants         6\n",
      "Delhi Capitals                  5\n",
      "Kochi Tuskers Kerala            4\n",
      "Name: toss_winner, dtype: int64\n"
     ]
    },
    {
     "data": {
      "image/png": "[encoded data removed]",
      "text/plain": [
       "<Figure size 864x360 with 1 Axes>"
      ]
     },
     "metadata": {
      "needs_background": "light",
      "tags": []
     },
     "output_type": "display_data"
    }
   ],
   "source": [
    "#WTFFWBW\n",
    "\n",
    "print(\"\\nAnalysis of the Teams Won the Toss, Choose to Field First and Won the Match by Wickets :\\n\",WTFFWBW['toss_winner'].value_counts())\n",
    "\n",
    "plt.figure(figsize=(12,5))\n",
    "\n",
    "x = WTFFWBW['toss_winner'].value_counts().index\n",
    "y = WTFFWBW['toss_winner'].value_counts().values\n",
    "\n",
    "plt.barh(x, y, alpha=0.5, color='skyblue', edgecolor='red')\n",
    "\n",
    "for index, value in enumerate(y):\n",
    "    plt.text(value, index,str(value))\n",
    "    \n",
    "plt.xlabel('Matches',fontsize=13)\n",
    "plt.ylabel('Teams',fontsize=13)\n",
    "plt.title(\"Winning Graph of Teams Won the Toss, Choose to Field First and Won the Match by Wickets\",fontsize=15)\n",
    "plt.show()"
   ]
  },
  {
   "cell_type": "markdown",
   "id": "6a47e533",
   "metadata": {
    "id": "destroyed-contemporary"
   },
   "source": [
    "## Analysis of matches played by City"
   ]
  },
  {
   "cell_type": "code",
   "execution_count": null,
   "id": "bc390610",
   "metadata": {
    "id": "acting-andrews",
    "outputId": "0e5211b6-8980-43fb-d103-45bf8e93f85b"
   },
   "outputs": [
    {
     "data": {
      "text/plain": [
       "Mumbai        101\n",
       "Kolkata        77\n",
       "Delhi          74\n",
       "Bangalore      66\n",
       "Hyderabad      64\n",
       "Chennai        57\n",
       "Jaipur         47\n",
       "Chandigarh     46\n",
       "Pune           38\n",
       "Durban         15\n",
       "Name: city, dtype: int64"
      ]
     },
     "execution_count": 37,
     "metadata": {
      "tags": []
     },
     "output_type": "execute_result"
    }
   ],
   "source": [
    "Match_By_City = match['city'].value_counts()\n",
    "Match_By_City.head(10)"
   ]
  },
  {
   "cell_type": "code",
   "execution_count": null,
   "id": "e8c590a9",
   "metadata": {
    "id": "material-consultation",
    "outputId": "eb21efc4-165e-4a7c-c4ec-209272586354"
   },
   "outputs": [
    {
     "name": "stdout",
     "output_type": "stream",
     "text": [
      "\n",
      "Analysis of the Teams Won the Toss, Choose to Field First and Won the Match by Wickets :\n",
      " Kolkata Knight Riders          37\n",
      "Royal Challengers Bangalore    31\n",
      "Mumbai Indians                 31\n",
      "Kings XI Punjab                28\n",
      "Chennai Super Kings            27\n",
      "Rajasthan Royals               27\n",
      "Delhi Daredevils               24\n",
      "Sunrisers Hyderabad            15\n",
      "Gujarat Lions                  10\n",
      "Deccan Chargers                 8\n",
      "Rising Pune Supergiants         6\n",
      "Delhi Capitals                  5\n",
      "Kochi Tuskers Kerala            4\n",
      "Name: toss_winner, dtype: int64\n"
     ]
    },
    {
     "data": {
      "image/png": "[encoded data removed]",
      "text/plain": [
       "<Figure size 864x720 with 1 Axes>"
      ]
     },
     "metadata": {
      "needs_background": "light",
      "tags": []
     },
     "output_type": "display_data"
    }
   ],
   "source": [
    "#WTFFWBW\n",
    "print(\"\\nAnalysis of the Teams Won the Toss, Choose to Field First and Won the Match by Wickets :\\n\",WTFFWBW['toss_winner'].value_counts())\n",
    "\n",
    "plt.figure(figsize=(12,10))\n",
    "\n",
    "x = Match_By_City.index\n",
    "y = Match_By_City.values\n",
    "\n",
    "plt.barh(x, y, alpha=0.5, color='skyblue', edgecolor='red')\n",
    "\n",
    "for index, value in enumerate(y):\n",
    "    plt.text(value, index,str(value))\n",
    "    \n",
    "plt.xlabel('Matches Played',fontsize=13)\n",
    "plt.ylabel('Cities',fontsize=13)\n",
    "plt.title(\"Graph of Matches Played by City\",fontsize=15)\n",
    "plt.show()\n"
   ]
  },
  {
   "cell_type": "code",
   "execution_count": null,
   "id": "e88ed4a4",
   "metadata": {
    "id": "heard-webmaster"
   },
   "outputs": [],
   "source": []
  },
  {
   "cell_type": "markdown",
   "id": "4b4c3749",
   "metadata": {
    "id": "representative-offering"
   },
   "source": [
    "# Lets Analyse the \"deliveries.csv\""
   ]
  },
  {
   "cell_type": "code",
   "execution_count": null,
   "id": "96fc9fb0",
   "metadata": {
    "id": "sophisticated-genius",
    "outputId": "9514d4be-aa3b-493b-f61a-c59caa011eae"
   },
   "outputs": [
    {
     "data": {
      "text/html": [
       "<div>\n",
       "<style scoped>\n",
       "    .dataframe tbody tr th:only-of-type {\n",
       "        vertical-align: middle;\n",
       "    }\n",
       "\n",
       "    .dataframe tbody tr th {\n",
       "        vertical-align: top;\n",
       "    }\n",
       "\n",
       "    .dataframe thead th {\n",
       "        text-align: right;\n",
       "    }\n",
       "</style>\n",
       "<table border=\"1\" class=\"dataframe\">\n",
       "  <thead>\n",
       "    <tr style=\"text-align: right;\">\n",
       "      <th></th>\n",
       "      <th>match_id</th>\n",
       "      <th>inning</th>\n",
       "      <th>batting_team</th>\n",
       "      <th>bowling_team</th>\n",
       "      <th>over</th>\n",
       "      <th>ball</th>\n",
       "      <th>batsman</th>\n",
       "      <th>non_striker</th>\n",
       "      <th>bowler</th>\n",
       "      <th>is_super_over</th>\n",
       "      <th>...</th>\n",
       "      <th>bye_runs</th>\n",
       "      <th>legbye_runs</th>\n",
       "      <th>noball_runs</th>\n",
       "      <th>penalty_runs</th>\n",
       "      <th>batsman_runs</th>\n",
       "      <th>extra_runs</th>\n",
       "      <th>total_runs</th>\n",
       "      <th>player_dismissed</th>\n",
       "      <th>dismissal_kind</th>\n",
       "      <th>fielder</th>\n",
       "    </tr>\n",
       "  </thead>\n",
       "  <tbody>\n",
       "    <tr>\n",
       "      <th>0</th>\n",
       "      <td>1</td>\n",
       "      <td>1</td>\n",
       "      <td>Sunrisers Hyderabad</td>\n",
       "      <td>Royal Challengers Bangalore</td>\n",
       "      <td>1</td>\n",
       "      <td>1</td>\n",
       "      <td>DA Warner</td>\n",
       "      <td>S Dhawan</td>\n",
       "      <td>TS Mills</td>\n",
       "      <td>0</td>\n",
       "      <td>...</td>\n",
       "      <td>0</td>\n",
       "      <td>0</td>\n",
       "      <td>0</td>\n",
       "      <td>0</td>\n",
       "      <td>0</td>\n",
       "      <td>0</td>\n",
       "      <td>0</td>\n",
       "      <td>NaN</td>\n",
       "      <td>NaN</td>\n",
       "      <td>NaN</td>\n",
       "    </tr>\n",
       "    <tr>\n",
       "      <th>1</th>\n",
       "      <td>1</td>\n",
       "      <td>1</td>\n",
       "      <td>Sunrisers Hyderabad</td>\n",
       "      <td>Royal Challengers Bangalore</td>\n",
       "      <td>1</td>\n",
       "      <td>2</td>\n",
       "      <td>DA Warner</td>\n",
       "      <td>S Dhawan</td>\n",
       "      <td>TS Mills</td>\n",
       "      <td>0</td>\n",
       "      <td>...</td>\n",
       "      <td>0</td>\n",
       "      <td>0</td>\n",
       "      <td>0</td>\n",
       "      <td>0</td>\n",
       "      <td>0</td>\n",
       "      <td>0</td>\n",
       "      <td>0</td>\n",
       "      <td>NaN</td>\n",
       "      <td>NaN</td>\n",
       "      <td>NaN</td>\n",
       "    </tr>\n",
       "    <tr>\n",
       "      <th>2</th>\n",
       "      <td>1</td>\n",
       "      <td>1</td>\n",
       "      <td>Sunrisers Hyderabad</td>\n",
       "      <td>Royal Challengers Bangalore</td>\n",
       "      <td>1</td>\n",
       "      <td>3</td>\n",
       "      <td>DA Warner</td>\n",
       "      <td>S Dhawan</td>\n",
       "      <td>TS Mills</td>\n",
       "      <td>0</td>\n",
       "      <td>...</td>\n",
       "      <td>0</td>\n",
       "      <td>0</td>\n",
       "      <td>0</td>\n",
       "      <td>0</td>\n",
       "      <td>4</td>\n",
       "      <td>0</td>\n",
       "      <td>4</td>\n",
       "      <td>NaN</td>\n",
       "      <td>NaN</td>\n",
       "      <td>NaN</td>\n",
       "    </tr>\n",
       "    <tr>\n",
       "      <th>3</th>\n",
       "      <td>1</td>\n",
       "      <td>1</td>\n",
       "      <td>Sunrisers Hyderabad</td>\n",
       "      <td>Royal Challengers Bangalore</td>\n",
       "      <td>1</td>\n",
       "      <td>4</td>\n",
       "      <td>DA Warner</td>\n",
       "      <td>S Dhawan</td>\n",
       "      <td>TS Mills</td>\n",
       "      <td>0</td>\n",
       "      <td>...</td>\n",
       "      <td>0</td>\n",
       "      <td>0</td>\n",
       "      <td>0</td>\n",
       "      <td>0</td>\n",
       "      <td>0</td>\n",
       "      <td>0</td>\n",
       "      <td>0</td>\n",
       "      <td>NaN</td>\n",
       "      <td>NaN</td>\n",
       "      <td>NaN</td>\n",
       "    </tr>\n",
       "    <tr>\n",
       "      <th>4</th>\n",
       "      <td>1</td>\n",
       "      <td>1</td>\n",
       "      <td>Sunrisers Hyderabad</td>\n",
       "      <td>Royal Challengers Bangalore</td>\n",
       "      <td>1</td>\n",
       "      <td>5</td>\n",
       "      <td>DA Warner</td>\n",
       "      <td>S Dhawan</td>\n",
       "      <td>TS Mills</td>\n",
       "      <td>0</td>\n",
       "      <td>...</td>\n",
       "      <td>0</td>\n",
       "      <td>0</td>\n",
       "      <td>0</td>\n",
       "      <td>0</td>\n",
       "      <td>0</td>\n",
       "      <td>2</td>\n",
       "      <td>2</td>\n",
       "      <td>NaN</td>\n",
       "      <td>NaN</td>\n",
       "      <td>NaN</td>\n",
       "    </tr>\n",
       "  </tbody>\n",
       "</table>\n",
       "<p>5 rows × 21 columns</p>\n",
       "</div>"
      ],
      "text/plain": [
       "   match_id  inning         batting_team                 bowling_team  over  \\\n",
       "0         1       1  Sunrisers Hyderabad  Royal Challengers Bangalore     1   \n",
       "1         1       1  Sunrisers Hyderabad  Royal Challengers Bangalore     1   \n",
       "2         1       1  Sunrisers Hyderabad  Royal Challengers Bangalore     1   \n",
       "3         1       1  Sunrisers Hyderabad  Royal Challengers Bangalore     1   \n",
       "4         1       1  Sunrisers Hyderabad  Royal Challengers Bangalore     1   \n",
       "\n",
       "   ball    batsman non_striker    bowler  is_super_over  ...  bye_runs  \\\n",
       "0     1  DA Warner    S Dhawan  TS Mills              0  ...         0   \n",
       "1     2  DA Warner    S Dhawan  TS Mills              0  ...         0   \n",
       "2     3  DA Warner    S Dhawan  TS Mills              0  ...         0   \n",
       "3     4  DA Warner    S Dhawan  TS Mills              0  ...         0   \n",
       "4     5  DA Warner    S Dhawan  TS Mills              0  ...         0   \n",
       "\n",
       "   legbye_runs  noball_runs  penalty_runs  batsman_runs  extra_runs  \\\n",
       "0            0            0             0             0           0   \n",
       "1            0            0             0             0           0   \n",
       "2            0            0             0             4           0   \n",
       "3            0            0             0             0           0   \n",
       "4            0            0             0             0           2   \n",
       "\n",
       "   total_runs  player_dismissed dismissal_kind fielder  \n",
       "0           0               NaN            NaN     NaN  \n",
       "1           0               NaN            NaN     NaN  \n",
       "2           4               NaN            NaN     NaN  \n",
       "3           0               NaN            NaN     NaN  \n",
       "4           2               NaN            NaN     NaN  \n",
       "\n",
       "[5 rows x 21 columns]"
      ]
     },
     "execution_count": 39,
     "metadata": {
      "tags": []
     },
     "output_type": "execute_result"
    }
   ],
   "source": [
    "deliv = pd.read_csv(r\"deliveries.csv\")\n",
    "deliv.head()"
   ]
  },
  {
   "cell_type": "markdown",
   "id": "5dc92f32",
   "metadata": {
    "id": "sexual-hamilton"
   },
   "source": [
    "## Lets merge the \"id\",\"season\",\"winner\"  from \"matches.csv\" to \"deliveries.csv\""
   ]
  },
  {
   "cell_type": "code",
   "execution_count": null,
   "id": "9c1b43cb",
   "metadata": {
    "id": "hidden-acquisition",
    "outputId": "bffc3533-906b-446e-f8b1-8368f06f4e00"
   },
   "outputs": [
    {
     "data": {
      "text/html": [
       "<div>\n",
       "<style scoped>\n",
       "    .dataframe tbody tr th:only-of-type {\n",
       "        vertical-align: middle;\n",
       "    }\n",
       "\n",
       "    .dataframe tbody tr th {\n",
       "        vertical-align: top;\n",
       "    }\n",
       "\n",
       "    .dataframe thead th {\n",
       "        text-align: right;\n",
       "    }\n",
       "</style>\n",
       "<table border=\"1\" class=\"dataframe\">\n",
       "  <thead>\n",
       "    <tr style=\"text-align: right;\">\n",
       "      <th></th>\n",
       "      <th>match_id</th>\n",
       "      <th>inning</th>\n",
       "      <th>batting_team</th>\n",
       "      <th>bowling_team</th>\n",
       "      <th>over</th>\n",
       "      <th>ball</th>\n",
       "      <th>batsman</th>\n",
       "      <th>non_striker</th>\n",
       "      <th>bowler</th>\n",
       "      <th>is_super_over</th>\n",
       "      <th>...</th>\n",
       "      <th>penalty_runs</th>\n",
       "      <th>batsman_runs</th>\n",
       "      <th>extra_runs</th>\n",
       "      <th>total_runs</th>\n",
       "      <th>player_dismissed</th>\n",
       "      <th>dismissal_kind</th>\n",
       "      <th>fielder</th>\n",
       "      <th>id</th>\n",
       "      <th>season</th>\n",
       "      <th>winner</th>\n",
       "    </tr>\n",
       "  </thead>\n",
       "  <tbody>\n",
       "    <tr>\n",
       "      <th>0</th>\n",
       "      <td>1</td>\n",
       "      <td>1</td>\n",
       "      <td>Sunrisers Hyderabad</td>\n",
       "      <td>Royal Challengers Bangalore</td>\n",
       "      <td>1</td>\n",
       "      <td>1</td>\n",
       "      <td>DA Warner</td>\n",
       "      <td>S Dhawan</td>\n",
       "      <td>TS Mills</td>\n",
       "      <td>0</td>\n",
       "      <td>...</td>\n",
       "      <td>0</td>\n",
       "      <td>0</td>\n",
       "      <td>0</td>\n",
       "      <td>0</td>\n",
       "      <td>NaN</td>\n",
       "      <td>NaN</td>\n",
       "      <td>NaN</td>\n",
       "      <td>1</td>\n",
       "      <td>2017</td>\n",
       "      <td>Sunrisers Hyderabad</td>\n",
       "    </tr>\n",
       "    <tr>\n",
       "      <th>1</th>\n",
       "      <td>1</td>\n",
       "      <td>1</td>\n",
       "      <td>Sunrisers Hyderabad</td>\n",
       "      <td>Royal Challengers Bangalore</td>\n",
       "      <td>1</td>\n",
       "      <td>2</td>\n",
       "      <td>DA Warner</td>\n",
       "      <td>S Dhawan</td>\n",
       "      <td>TS Mills</td>\n",
       "      <td>0</td>\n",
       "      <td>...</td>\n",
       "      <td>0</td>\n",
       "      <td>0</td>\n",
       "      <td>0</td>\n",
       "      <td>0</td>\n",
       "      <td>NaN</td>\n",
       "      <td>NaN</td>\n",
       "      <td>NaN</td>\n",
       "      <td>1</td>\n",
       "      <td>2017</td>\n",
       "      <td>Sunrisers Hyderabad</td>\n",
       "    </tr>\n",
       "    <tr>\n",
       "      <th>2</th>\n",
       "      <td>1</td>\n",
       "      <td>1</td>\n",
       "      <td>Sunrisers Hyderabad</td>\n",
       "      <td>Royal Challengers Bangalore</td>\n",
       "      <td>1</td>\n",
       "      <td>3</td>\n",
       "      <td>DA Warner</td>\n",
       "      <td>S Dhawan</td>\n",
       "      <td>TS Mills</td>\n",
       "      <td>0</td>\n",
       "      <td>...</td>\n",
       "      <td>0</td>\n",
       "      <td>4</td>\n",
       "      <td>0</td>\n",
       "      <td>4</td>\n",
       "      <td>NaN</td>\n",
       "      <td>NaN</td>\n",
       "      <td>NaN</td>\n",
       "      <td>1</td>\n",
       "      <td>2017</td>\n",
       "      <td>Sunrisers Hyderabad</td>\n",
       "    </tr>\n",
       "    <tr>\n",
       "      <th>3</th>\n",
       "      <td>1</td>\n",
       "      <td>1</td>\n",
       "      <td>Sunrisers Hyderabad</td>\n",
       "      <td>Royal Challengers Bangalore</td>\n",
       "      <td>1</td>\n",
       "      <td>4</td>\n",
       "      <td>DA Warner</td>\n",
       "      <td>S Dhawan</td>\n",
       "      <td>TS Mills</td>\n",
       "      <td>0</td>\n",
       "      <td>...</td>\n",
       "      <td>0</td>\n",
       "      <td>0</td>\n",
       "      <td>0</td>\n",
       "      <td>0</td>\n",
       "      <td>NaN</td>\n",
       "      <td>NaN</td>\n",
       "      <td>NaN</td>\n",
       "      <td>1</td>\n",
       "      <td>2017</td>\n",
       "      <td>Sunrisers Hyderabad</td>\n",
       "    </tr>\n",
       "    <tr>\n",
       "      <th>4</th>\n",
       "      <td>1</td>\n",
       "      <td>1</td>\n",
       "      <td>Sunrisers Hyderabad</td>\n",
       "      <td>Royal Challengers Bangalore</td>\n",
       "      <td>1</td>\n",
       "      <td>5</td>\n",
       "      <td>DA Warner</td>\n",
       "      <td>S Dhawan</td>\n",
       "      <td>TS Mills</td>\n",
       "      <td>0</td>\n",
       "      <td>...</td>\n",
       "      <td>0</td>\n",
       "      <td>0</td>\n",
       "      <td>2</td>\n",
       "      <td>2</td>\n",
       "      <td>NaN</td>\n",
       "      <td>NaN</td>\n",
       "      <td>NaN</td>\n",
       "      <td>1</td>\n",
       "      <td>2017</td>\n",
       "      <td>Sunrisers Hyderabad</td>\n",
       "    </tr>\n",
       "  </tbody>\n",
       "</table>\n",
       "<p>5 rows × 24 columns</p>\n",
       "</div>"
      ],
      "text/plain": [
       "   match_id  inning         batting_team                 bowling_team  over  \\\n",
       "0         1       1  Sunrisers Hyderabad  Royal Challengers Bangalore     1   \n",
       "1         1       1  Sunrisers Hyderabad  Royal Challengers Bangalore     1   \n",
       "2         1       1  Sunrisers Hyderabad  Royal Challengers Bangalore     1   \n",
       "3         1       1  Sunrisers Hyderabad  Royal Challengers Bangalore     1   \n",
       "4         1       1  Sunrisers Hyderabad  Royal Challengers Bangalore     1   \n",
       "\n",
       "   ball    batsman non_striker    bowler  is_super_over  ...  penalty_runs  \\\n",
       "0     1  DA Warner    S Dhawan  TS Mills              0  ...             0   \n",
       "1     2  DA Warner    S Dhawan  TS Mills              0  ...             0   \n",
       "2     3  DA Warner    S Dhawan  TS Mills              0  ...             0   \n",
       "3     4  DA Warner    S Dhawan  TS Mills              0  ...             0   \n",
       "4     5  DA Warner    S Dhawan  TS Mills              0  ...             0   \n",
       "\n",
       "   batsman_runs  extra_runs  total_runs  player_dismissed  dismissal_kind  \\\n",
       "0             0           0           0               NaN             NaN   \n",
       "1             0           0           0               NaN             NaN   \n",
       "2             4           0           4               NaN             NaN   \n",
       "3             0           0           0               NaN             NaN   \n",
       "4             0           2           2               NaN             NaN   \n",
       "\n",
       "   fielder  id season               winner  \n",
       "0      NaN   1   2017  Sunrisers Hyderabad  \n",
       "1      NaN   1   2017  Sunrisers Hyderabad  \n",
       "2      NaN   1   2017  Sunrisers Hyderabad  \n",
       "3      NaN   1   2017  Sunrisers Hyderabad  \n",
       "4      NaN   1   2017  Sunrisers Hyderabad  \n",
       "\n",
       "[5 rows x 24 columns]"
      ]
     },
     "execution_count": 40,
     "metadata": {
      "tags": []
     },
     "output_type": "execute_result"
    }
   ],
   "source": [
    "df = deliv.merge(match[[\"id\",\"season\",\"winner\"]], how=\"inner\",left_on=\"match_id\", right_on=\"id\")\n",
    "df.head(5)"
   ]
  },
  {
   "cell_type": "code",
   "execution_count": null,
   "id": "5df8a0dd",
   "metadata": {
    "id": "accredited-huntington"
   },
   "outputs": [],
   "source": [
    "df['batting_team'] = df['batting_team'].replace(['Rising Pune Supergiant'],'Rising Pune Supergiants')\n",
    "df['bowling_team'] = df['bowling_team'].replace(['Rising Pune Supergiant'],'Rising Pune Supergiants')"
   ]
  },
  {
   "cell_type": "markdown",
   "id": "47990037",
   "metadata": {
    "id": "opening-privacy"
   },
   "source": [
    "## Analysing for Total Fours and Sixes Recorded in the Scorbooks of the Every Teams"
   ]
  },
  {
   "cell_type": "code",
   "execution_count": null,
   "id": "3ecfc1be",
   "metadata": {
    "id": "arbitrary-mountain",
    "outputId": "b4f7c418-6bb9-4f3c-9a36-65f71f3e7032"
   },
   "outputs": [
    {
     "data": {
      "text/html": [
       "<div>\n",
       "<style scoped>\n",
       "    .dataframe tbody tr th:only-of-type {\n",
       "        vertical-align: middle;\n",
       "    }\n",
       "\n",
       "    .dataframe tbody tr th {\n",
       "        vertical-align: top;\n",
       "    }\n",
       "\n",
       "    .dataframe thead th {\n",
       "        text-align: right;\n",
       "    }\n",
       "</style>\n",
       "<table border=\"1\" class=\"dataframe\">\n",
       "  <thead>\n",
       "    <tr style=\"text-align: right;\">\n",
       "      <th></th>\n",
       "      <th>Fours</th>\n",
       "      <th>Sixes</th>\n",
       "    </tr>\n",
       "    <tr>\n",
       "      <th>batting_team</th>\n",
       "      <th></th>\n",
       "      <th></th>\n",
       "    </tr>\n",
       "  </thead>\n",
       "  <tbody>\n",
       "    <tr>\n",
       "      <th>Chennai Super Kings</th>\n",
       "      <td>2193</td>\n",
       "      <td>973</td>\n",
       "    </tr>\n",
       "    <tr>\n",
       "      <th>Deccan Chargers</th>\n",
       "      <td>957</td>\n",
       "      <td>400</td>\n",
       "    </tr>\n",
       "    <tr>\n",
       "      <th>Delhi Capitals</th>\n",
       "      <td>242</td>\n",
       "      <td>87</td>\n",
       "    </tr>\n",
       "    <tr>\n",
       "      <th>Delhi Daredevils</th>\n",
       "      <td>2158</td>\n",
       "      <td>801</td>\n",
       "    </tr>\n",
       "    <tr>\n",
       "      <th>Gujarat Lions</th>\n",
       "      <td>460</td>\n",
       "      <td>155</td>\n",
       "    </tr>\n",
       "    <tr>\n",
       "      <th>Kings XI Punjab</th>\n",
       "      <td>2458</td>\n",
       "      <td>976</td>\n",
       "    </tr>\n",
       "    <tr>\n",
       "      <th>Kochi Tuskers Kerala</th>\n",
       "      <td>170</td>\n",
       "      <td>53</td>\n",
       "    </tr>\n",
       "    <tr>\n",
       "      <th>Kolkata Knight Riders</th>\n",
       "      <td>2434</td>\n",
       "      <td>930</td>\n",
       "    </tr>\n",
       "    <tr>\n",
       "      <th>Mumbai Indians</th>\n",
       "      <td>2588</td>\n",
       "      <td>1096</td>\n",
       "    </tr>\n",
       "    <tr>\n",
       "      <th>Pune Warriors</th>\n",
       "      <td>525</td>\n",
       "      <td>196</td>\n",
       "    </tr>\n",
       "    <tr>\n",
       "      <th>Rajasthan Royals</th>\n",
       "      <td>2035</td>\n",
       "      <td>681</td>\n",
       "    </tr>\n",
       "    <tr>\n",
       "      <th>Rising Pune Supergiants</th>\n",
       "      <td>368</td>\n",
       "      <td>157</td>\n",
       "    </tr>\n",
       "    <tr>\n",
       "      <th>Royal Challengers Bangalore</th>\n",
       "      <td>2360</td>\n",
       "      <td>1132</td>\n",
       "    </tr>\n",
       "    <tr>\n",
       "      <th>Sunrisers Hyderabad</th>\n",
       "      <td>1444</td>\n",
       "      <td>533</td>\n",
       "    </tr>\n",
       "  </tbody>\n",
       "</table>\n",
       "</div>"
      ],
      "text/plain": [
       "                             Fours  Sixes\n",
       "batting_team                             \n",
       "Chennai Super Kings           2193    973\n",
       "Deccan Chargers                957    400\n",
       "Delhi Capitals                 242     87\n",
       "Delhi Daredevils              2158    801\n",
       "Gujarat Lions                  460    155\n",
       "Kings XI Punjab               2458    976\n",
       "Kochi Tuskers Kerala           170     53\n",
       "Kolkata Knight Riders         2434    930\n",
       "Mumbai Indians                2588   1096\n",
       "Pune Warriors                  525    196\n",
       "Rajasthan Royals              2035    681\n",
       "Rising Pune Supergiants        368    157\n",
       "Royal Challengers Bangalore   2360   1132\n",
       "Sunrisers Hyderabad           1444    533"
      ]
     },
     "execution_count": 42,
     "metadata": {
      "tags": []
     },
     "output_type": "execute_result"
    }
   ],
   "source": [
    "fours = df[[\"batting_team\", \"batsman_runs\", \"batsman\"]]\n",
    "\n",
    "bound4 = fours[fours[\"batsman_runs\"] == 4]\n",
    "Bound4 = bound4.groupby(\"batting_team\")[\"batsman_runs\"].agg([(\"Fours\", \"count\")])\n",
    "\n",
    "bound6 = fours[fours[\"batsman_runs\"] == 6]\n",
    "Bound6 = bound6.groupby(\"batting_team\")[\"batsman_runs\"].agg([(\"Sixes\", \"count\")])\n",
    "\n",
    "Bound = Bound4.merge(Bound6, how=\"inner\", right_on=\"batting_team\", left_on=\"batting_team\")\n",
    "Bound"
   ]
  },
  {
   "cell_type": "code",
   "execution_count": null,
   "id": "ba478e4d",
   "metadata": {
    "id": "prospective-digit",
    "outputId": "0073130b-1e86-4042-f8dc-3dee42f3734a"
   },
   "outputs": [
    {
     "data": {
      "text/plain": [
       "batting_team\n",
       "Chennai Super Kings            3166\n",
       "Deccan Chargers                1357\n",
       "Delhi Capitals                  329\n",
       "Delhi Daredevils               2959\n",
       "Gujarat Lions                   615\n",
       "Kings XI Punjab                3434\n",
       "Kochi Tuskers Kerala            223\n",
       "Kolkata Knight Riders          3364\n",
       "Mumbai Indians                 3684\n",
       "Pune Warriors                   721\n",
       "Rajasthan Royals               2716\n",
       "Rising Pune Supergiants         525\n",
       "Royal Challengers Bangalore    3492\n",
       "Sunrisers Hyderabad            1977\n",
       "dtype: int64"
      ]
     },
     "execution_count": 43,
     "metadata": {
      "tags": []
     },
     "output_type": "execute_result"
    }
   ],
   "source": [
    "Tot_Fours_And_Sixes = Bound['Fours']+Bound['Sixes']\n",
    "Tot_Fours_And_Sixes"
   ]
  },
  {
   "cell_type": "code",
   "execution_count": null,
   "id": "f2ac37e5",
   "metadata": {
    "id": "gentle-villa",
    "outputId": "c754ef76-4237-4d03-c38d-1a6f52decb99"
   },
   "outputs": [
    {
     "data": {
      "text/plain": [
       "pandas.core.series.Series"
      ]
     },
     "execution_count": 44,
     "metadata": {
      "tags": []
     },
     "output_type": "execute_result"
    }
   ],
   "source": [
    "type(Tot_Fours_And_Sixes)"
   ]
  },
  {
   "cell_type": "markdown",
   "id": "e4a1406a",
   "metadata": {
    "id": "martial-disclaimer"
   },
   "source": [
    "### Analysing the Fours and Sixes Scored by Each Teams"
   ]
  },
  {
   "cell_type": "code",
   "execution_count": null,
   "id": "0b72b8c6",
   "metadata": {
    "id": "standard-private",
    "outputId": "6cc2925b-0387-4377-b212-8b7a982bcb14"
   },
   "outputs": [
    {
     "data": {
      "image/png": "[encoded data removed]",
      "text/plain": [
       "<Figure size 1008x432 with 1 Axes>"
      ]
     },
     "metadata": {
      "needs_background": "light",
      "tags": []
     },
     "output_type": "display_data"
    }
   ],
   "source": [
    "plt.figure(figsize=(14,6))\n",
    "\n",
    "x = Tot_Fours_And_Sixes.index\n",
    "y = Tot_Fours_And_Sixes.values\n",
    "\n",
    "plt.barh(x, y, alpha=0.5,align='center', color='skyblue', edgecolor='red')\n",
    "\n",
    "for index, value in enumerate(y):\n",
    "    plt.text(value, index,str(value))\n",
    "    \n",
    "plt.xlabel(\"No. Of Fours\",fontsize=13)\n",
    "plt.ylabel(\"Teams\",fontsize=13)\n",
    "plt.title(\"Four Runs Scored by Each Team\", fontsize=15)\n",
    "plt.show()"
   ]
  },
  {
   "cell_type": "markdown",
   "id": "adfc414e",
   "metadata": {
    "id": "mechanical-checklist"
   },
   "source": [
    "## Analysing for Batsman hitting Maximum Fours."
   ]
  },
  {
   "cell_type": "code",
   "execution_count": null,
   "id": "3d4d3645",
   "metadata": {
    "id": "saving-caribbean",
    "outputId": "32901d25-1ec1-482b-ea07-835065f8a698"
   },
   "outputs": [
    {
     "data": {
      "text/html": [
       "<div>\n",
       "<style scoped>\n",
       "    .dataframe tbody tr th:only-of-type {\n",
       "        vertical-align: middle;\n",
       "    }\n",
       "\n",
       "    .dataframe tbody tr th {\n",
       "        vertical-align: top;\n",
       "    }\n",
       "\n",
       "    .dataframe thead th {\n",
       "        text-align: right;\n",
       "    }\n",
       "</style>\n",
       "<table border=\"1\" class=\"dataframe\">\n",
       "  <thead>\n",
       "    <tr style=\"text-align: right;\">\n",
       "      <th></th>\n",
       "      <th>Fours</th>\n",
       "    </tr>\n",
       "    <tr>\n",
       "      <th>batsman</th>\n",
       "      <th></th>\n",
       "    </tr>\n",
       "  </thead>\n",
       "  <tbody>\n",
       "    <tr>\n",
       "      <th>S Dhawan</th>\n",
       "      <td>526</td>\n",
       "    </tr>\n",
       "    <tr>\n",
       "      <th>SK Raina</th>\n",
       "      <td>495</td>\n",
       "    </tr>\n",
       "    <tr>\n",
       "      <th>G Gambhir</th>\n",
       "      <td>492</td>\n",
       "    </tr>\n",
       "    <tr>\n",
       "      <th>V Kohli</th>\n",
       "      <td>482</td>\n",
       "    </tr>\n",
       "    <tr>\n",
       "      <th>DA Warner</th>\n",
       "      <td>459</td>\n",
       "    </tr>\n",
       "  </tbody>\n",
       "</table>\n",
       "</div>"
      ],
      "text/plain": [
       "           Fours\n",
       "batsman         \n",
       "S Dhawan     526\n",
       "SK Raina     495\n",
       "G Gambhir    492\n",
       "V Kohli      482\n",
       "DA Warner    459"
      ]
     },
     "execution_count": 46,
     "metadata": {
      "tags": []
     },
     "output_type": "execute_result"
    }
   ],
   "source": [
    "bm = bound4.groupby(\"batsman\")[\"batsman_runs\"].agg([(\"Fours\",\"count\")])\n",
    "bm_sort = bm.sort_values(\"Fours\",ascending = False)\n",
    "bm_sort.head()"
   ]
  },
  {
   "cell_type": "code",
   "execution_count": null,
   "id": "5dda5f27",
   "metadata": {
    "id": "impossible-rogers"
   },
   "outputs": [],
   "source": [
    "# Converting DataFrame into Series to perform further operations of Visualizations.\n",
    "bm_sort_series = bm_sort.squeeze()"
   ]
  },
  {
   "cell_type": "code",
   "execution_count": null,
   "id": "6721fef8",
   "metadata": {
    "id": "constitutional-potato",
    "outputId": "8ec5a2f6-374e-40ec-a433-0be4e2072658"
   },
   "outputs": [
    {
     "data": {
      "text/plain": [
       "pandas.core.series.Series"
      ]
     },
     "execution_count": 48,
     "metadata": {
      "tags": []
     },
     "output_type": "execute_result"
    }
   ],
   "source": [
    "type(bm_sort_series)"
   ]
  },
  {
   "cell_type": "code",
   "execution_count": null,
   "id": "9f2b07cc",
   "metadata": {
    "id": "coordinated-vaccine",
    "outputId": "4beb2ad8-7137-411c-eb42-0518c77cfbc0"
   },
   "outputs": [
    {
     "data": {
      "image/png": "[encoded data removed]",
      "text/plain": [
       "<Figure size 720x432 with 1 Axes>"
      ]
     },
     "metadata": {
      "needs_background": "light",
      "tags": []
     },
     "output_type": "display_data"
    }
   ],
   "source": [
    "# Lets Visualize the above data\n",
    "Top4 = bm_sort_series.head(10)\n",
    "\n",
    "x = Top4.index\n",
    "y = Top4.values\n",
    "\n",
    "plt.figure(figsize = (10,6))\n",
    "plt.barh(x,y,alpha=0.5, color='skyblue', edgecolor='red')\n",
    "\n",
    "for x,y in enumerate(y):\n",
    "    plt.text(y,x,str(y))\n",
    "    \n",
    "plt.xlabel(\"Number of Fours\", fontsize = 13)\n",
    "plt.ylabel(\"Player Name\", fontsize = 13)\n",
    "plt.title(\"Max Hitted Fours\", fontsize = 15)\n",
    "#plt.xticks(rotation = 45, fontsize = 10)\n",
    "plt.show()"
   ]
  },
  {
   "cell_type": "markdown",
   "id": "fc738bff",
   "metadata": {
    "id": "joined-korean"
   },
   "source": [
    "## Analysing for Batsman hitting Maximum Sixes."
   ]
  },
  {
   "cell_type": "code",
   "execution_count": null,
   "id": "d700404c",
   "metadata": {
    "id": "following-roots",
    "outputId": "54e0a18b-93d3-424d-ae7c-0831b0b538a1"
   },
   "outputs": [
    {
     "data": {
      "text/html": [
       "<div>\n",
       "<style scoped>\n",
       "    .dataframe tbody tr th:only-of-type {\n",
       "        vertical-align: middle;\n",
       "    }\n",
       "\n",
       "    .dataframe tbody tr th {\n",
       "        vertical-align: top;\n",
       "    }\n",
       "\n",
       "    .dataframe thead th {\n",
       "        text-align: right;\n",
       "    }\n",
       "</style>\n",
       "<table border=\"1\" class=\"dataframe\">\n",
       "  <thead>\n",
       "    <tr style=\"text-align: right;\">\n",
       "      <th></th>\n",
       "      <th>Sixes</th>\n",
       "    </tr>\n",
       "    <tr>\n",
       "      <th>batsman</th>\n",
       "      <th></th>\n",
       "    </tr>\n",
       "  </thead>\n",
       "  <tbody>\n",
       "    <tr>\n",
       "      <th>CH Gayle</th>\n",
       "      <td>327</td>\n",
       "    </tr>\n",
       "    <tr>\n",
       "      <th>AB de Villiers</th>\n",
       "      <td>214</td>\n",
       "    </tr>\n",
       "    <tr>\n",
       "      <th>MS Dhoni</th>\n",
       "      <td>207</td>\n",
       "    </tr>\n",
       "    <tr>\n",
       "      <th>SK Raina</th>\n",
       "      <td>195</td>\n",
       "    </tr>\n",
       "    <tr>\n",
       "      <th>RG Sharma</th>\n",
       "      <td>194</td>\n",
       "    </tr>\n",
       "    <tr>\n",
       "      <th>V Kohli</th>\n",
       "      <td>191</td>\n",
       "    </tr>\n",
       "    <tr>\n",
       "      <th>DA Warner</th>\n",
       "      <td>181</td>\n",
       "    </tr>\n",
       "    <tr>\n",
       "      <th>SR Watson</th>\n",
       "      <td>177</td>\n",
       "    </tr>\n",
       "    <tr>\n",
       "      <th>KA Pollard</th>\n",
       "      <td>175</td>\n",
       "    </tr>\n",
       "    <tr>\n",
       "      <th>YK Pathan</th>\n",
       "      <td>161</td>\n",
       "    </tr>\n",
       "  </tbody>\n",
       "</table>\n",
       "</div>"
      ],
      "text/plain": [
       "                Sixes\n",
       "batsman              \n",
       "CH Gayle          327\n",
       "AB de Villiers    214\n",
       "MS Dhoni          207\n",
       "SK Raina          195\n",
       "RG Sharma         194\n",
       "V Kohli           191\n",
       "DA Warner         181\n",
       "SR Watson         177\n",
       "KA Pollard        175\n",
       "YK Pathan         161"
      ]
     },
     "execution_count": 50,
     "metadata": {
      "tags": []
     },
     "output_type": "execute_result"
    }
   ],
   "source": [
    "bm6 = bound6.groupby(\"batsman\")[\"batsman_runs\"].agg([(\"Sixes\", \"count\")])\n",
    "bm6_sort = bm6.sort_values(\"Sixes\",ascending = False)\n",
    "bm6_sort.head(10)"
   ]
  },
  {
   "cell_type": "code",
   "execution_count": null,
   "id": "b663ff7b",
   "metadata": {
    "id": "capital-family",
    "outputId": "79587665-72a9-4e88-b4b6-f71b0e422fb9"
   },
   "outputs": [
    {
     "data": {
      "text/plain": [
       "pandas.core.series.Series"
      ]
     },
     "execution_count": 51,
     "metadata": {
      "tags": []
     },
     "output_type": "execute_result"
    }
   ],
   "source": [
    "bm6_sort_series = bm6_sort.squeeze()\n",
    "type(bm6_sort_series)"
   ]
  },
  {
   "cell_type": "code",
   "execution_count": null,
   "id": "8eb49649",
   "metadata": {
    "id": "intelligent-development",
    "outputId": "0b64f90c-6cef-46bf-d6ca-fe9cc4fa5c8a",
    "scrolled": false
   },
   "outputs": [
    {
     "data": {
      "image/png": "[encoded data removed]",
      "text/plain": [
       "<Figure size 1080x360 with 1 Axes>"
      ]
     },
     "metadata": {
      "needs_background": "light",
      "tags": []
     },
     "output_type": "display_data"
    }
   ],
   "source": [
    "# Lets Visualize the above data\n",
    "Top6 = bm6_sort_series.head(10)\n",
    "\n",
    "x = Top6.index\n",
    "y = Top6.values\n",
    "\n",
    "plt.figure(figsize = (15,5))\n",
    "plt.barh(x,y,alpha=0.5, color='skyblue', edgecolor='red')\n",
    "\n",
    "for x, y in enumerate(y):\n",
    "    plt.text(y, x,str(y))\n",
    "    \n",
    "plt.xlabel(\"Number of Sixes\", fontsize = 13)\n",
    "plt.ylabel(\"Player Name\", fontsize = 13)\n",
    "plt.title(\"Max Hitted Sixes\", fontsize = 15)\n",
    "#plt.xticks(rotation = 45, fontsize = 10)\n",
    "plt.show()"
   ]
  },
  {
   "cell_type": "markdown",
   "id": "27fdf728",
   "metadata": {
    "id": "together-indication"
   },
   "source": [
    "## Top 10 Batsmen Scoring Maximum Number of Runs"
   ]
  },
  {
   "cell_type": "code",
   "execution_count": null,
   "id": "7cb9ffb0",
   "metadata": {
    "id": "settled-alexander",
    "outputId": "47a717a0-db65-43d1-fff3-9595fa47c323"
   },
   "outputs": [
    {
     "data": {
      "text/html": [
       "<div>\n",
       "<style scoped>\n",
       "    .dataframe tbody tr th:only-of-type {\n",
       "        vertical-align: middle;\n",
       "    }\n",
       "\n",
       "    .dataframe tbody tr th {\n",
       "        vertical-align: top;\n",
       "    }\n",
       "\n",
       "    .dataframe thead th {\n",
       "        text-align: right;\n",
       "    }\n",
       "</style>\n",
       "<table border=\"1\" class=\"dataframe\">\n",
       "  <thead>\n",
       "    <tr style=\"text-align: right;\">\n",
       "      <th></th>\n",
       "      <th>Runs</th>\n",
       "    </tr>\n",
       "    <tr>\n",
       "      <th>batsman</th>\n",
       "      <th></th>\n",
       "    </tr>\n",
       "  </thead>\n",
       "  <tbody>\n",
       "    <tr>\n",
       "      <th>V Kohli</th>\n",
       "      <td>5434</td>\n",
       "    </tr>\n",
       "    <tr>\n",
       "      <th>SK Raina</th>\n",
       "      <td>5415</td>\n",
       "    </tr>\n",
       "    <tr>\n",
       "      <th>RG Sharma</th>\n",
       "      <td>4914</td>\n",
       "    </tr>\n",
       "    <tr>\n",
       "      <th>DA Warner</th>\n",
       "      <td>4741</td>\n",
       "    </tr>\n",
       "    <tr>\n",
       "      <th>S Dhawan</th>\n",
       "      <td>4632</td>\n",
       "    </tr>\n",
       "    <tr>\n",
       "      <th>CH Gayle</th>\n",
       "      <td>4560</td>\n",
       "    </tr>\n",
       "    <tr>\n",
       "      <th>MS Dhoni</th>\n",
       "      <td>4477</td>\n",
       "    </tr>\n",
       "    <tr>\n",
       "      <th>RV Uthappa</th>\n",
       "      <td>4446</td>\n",
       "    </tr>\n",
       "    <tr>\n",
       "      <th>AB de Villiers</th>\n",
       "      <td>4428</td>\n",
       "    </tr>\n",
       "    <tr>\n",
       "      <th>G Gambhir</th>\n",
       "      <td>4223</td>\n",
       "    </tr>\n",
       "  </tbody>\n",
       "</table>\n",
       "</div>"
      ],
      "text/plain": [
       "                Runs\n",
       "batsman             \n",
       "V Kohli         5434\n",
       "SK Raina        5415\n",
       "RG Sharma       4914\n",
       "DA Warner       4741\n",
       "S Dhawan        4632\n",
       "CH Gayle        4560\n",
       "MS Dhoni        4477\n",
       "RV Uthappa      4446\n",
       "AB de Villiers  4428\n",
       "G Gambhir       4223"
      ]
     },
     "execution_count": 53,
     "metadata": {
      "tags": []
     },
     "output_type": "execute_result"
    }
   ],
   "source": [
    "bm_score = fours.groupby(\"batsman\")['batsman_runs'].agg([(\"Runs\", \"sum\")])\n",
    "bm_score_sort = bm_score.sort_values(\"Runs\", ascending = False)\n",
    "bm_score_sort.head(10)"
   ]
  },
  {
   "cell_type": "code",
   "execution_count": null,
   "id": "772f254f",
   "metadata": {
    "id": "moral-passing",
    "outputId": "2c80e1fc-cb6f-4a20-df5f-c4af03ccd249"
   },
   "outputs": [
    {
     "data": {
      "text/plain": [
       "pandas.core.series.Series"
      ]
     },
     "execution_count": 54,
     "metadata": {
      "tags": []
     },
     "output_type": "execute_result"
    }
   ],
   "source": [
    "bm_score_series = bm_score_sort.squeeze()\n",
    "type(bm_score_series)"
   ]
  },
  {
   "cell_type": "markdown",
   "id": "f7cd6e9a",
   "metadata": {
    "id": "designing-walnut"
   },
   "source": [
    "## Making a Bar Plot to Find Top 10 Batsman Scoring Most Runs"
   ]
  },
  {
   "cell_type": "code",
   "execution_count": null,
   "id": "9df60d82",
   "metadata": {
    "id": "closing-renaissance",
    "outputId": "83de71a3-8137-4bdc-9b95-a05169df3e89"
   },
   "outputs": [
    {
     "data": {
      "image/png": "[encoded data removed]",
      "text/plain": [
       "<Figure size 720x432 with 1 Axes>"
      ]
     },
     "metadata": {
      "needs_background": "light",
      "tags": []
     },
     "output_type": "display_data"
    }
   ],
   "source": [
    "# Lets Visualize the above data\n",
    "\n",
    "Top10 = bm_score_series.head(10)\n",
    "\n",
    "x = Top10.index\n",
    "y = Top10.values\n",
    "\n",
    "plt.figure(figsize = (10,6))\n",
    "plt.barh(x,y,alpha=0.5, color='skyblue', edgecolor='red')\n",
    "\n",
    "for x,y in enumerate(y):\n",
    "    plt.text(y,x,str(y))\n",
    "    \n",
    "plt.xlim(4000,5600)\n",
    "plt.xlabel(\"Runs Contributed\", fontsize = 13)\n",
    "plt.ylabel(\"Player Name\", fontsize = 13)\n",
    "plt.title(\"Analysis of Top 10 Total Runs Contribution\", fontsize = 15)\n",
    "#plt.xticks(rotation = 45, fontsize = 10)\n",
    "plt.show()"
   ]
  },
  {
   "cell_type": "markdown",
   "id": "8d6a1d64",
   "metadata": {
    "id": "coated-extent"
   },
   "source": [
    "## Lets make Analysis for the Top Bowlers"
   ]
  },
  {
   "cell_type": "code",
   "execution_count": null,
   "id": "1b84a5ec",
   "metadata": {
    "id": "considered-parish",
    "outputId": "40679f7b-acdd-460a-d82d-952ea55c34e2"
   },
   "outputs": [
    {
     "data": {
      "text/html": [
       "<div>\n",
       "<style scoped>\n",
       "    .dataframe tbody tr th:only-of-type {\n",
       "        vertical-align: middle;\n",
       "    }\n",
       "\n",
       "    .dataframe tbody tr th {\n",
       "        vertical-align: top;\n",
       "    }\n",
       "\n",
       "    .dataframe thead th {\n",
       "        text-align: right;\n",
       "    }\n",
       "</style>\n",
       "<table border=\"1\" class=\"dataframe\">\n",
       "  <thead>\n",
       "    <tr style=\"text-align: right;\">\n",
       "      <th></th>\n",
       "      <th>bowler</th>\n",
       "      <th>wickets</th>\n",
       "    </tr>\n",
       "  </thead>\n",
       "  <tbody>\n",
       "    <tr>\n",
       "      <th>0</th>\n",
       "      <td>A Ashish Reddy</td>\n",
       "      <td>18</td>\n",
       "    </tr>\n",
       "    <tr>\n",
       "      <th>1</th>\n",
       "      <td>A Chandila</td>\n",
       "      <td>11</td>\n",
       "    </tr>\n",
       "    <tr>\n",
       "      <th>2</th>\n",
       "      <td>A Choudhary</td>\n",
       "      <td>5</td>\n",
       "    </tr>\n",
       "    <tr>\n",
       "      <th>3</th>\n",
       "      <td>A Flintoff</td>\n",
       "      <td>2</td>\n",
       "    </tr>\n",
       "    <tr>\n",
       "      <th>4</th>\n",
       "      <td>A Joseph</td>\n",
       "      <td>6</td>\n",
       "    </tr>\n",
       "  </tbody>\n",
       "</table>\n",
       "</div>"
      ],
      "text/plain": [
       "           bowler  wickets\n",
       "0  A Ashish Reddy       18\n",
       "1      A Chandila       11\n",
       "2     A Choudhary        5\n",
       "3      A Flintoff        2\n",
       "4        A Joseph        6"
      ]
     },
     "execution_count": 56,
     "metadata": {
      "tags": []
     },
     "output_type": "execute_result"
    }
   ],
   "source": [
    "wickets = deliv.dropna(subset = ['dismissal_kind'])\n",
    "wickets = wickets[~wickets['dismissal_kind'].isin(['run out', 'retired hurt', 'obstructing the field'])]\n",
    "bowlers = wickets.groupby(\"bowler\")['dismissal_kind'].agg(['count']).reset_index()\n",
    "bowlers = bowlers.rename(columns = {'count':'wickets'})\n",
    "bowlers.head()"
   ]
  },
  {
   "cell_type": "code",
   "execution_count": null,
   "id": "44ff0ca2",
   "metadata": {
    "id": "listed-retirement",
    "outputId": "bfcb6ecf-35da-4434-aaac-8fb153eb8765"
   },
   "outputs": [
    {
     "data": {
      "text/html": [
       "<div>\n",
       "<style scoped>\n",
       "    .dataframe tbody tr th:only-of-type {\n",
       "        vertical-align: middle;\n",
       "    }\n",
       "\n",
       "    .dataframe tbody tr th {\n",
       "        vertical-align: top;\n",
       "    }\n",
       "\n",
       "    .dataframe thead th {\n",
       "        text-align: right;\n",
       "    }\n",
       "</style>\n",
       "<table border=\"1\" class=\"dataframe\">\n",
       "  <thead>\n",
       "    <tr style=\"text-align: right;\">\n",
       "      <th></th>\n",
       "      <th>bowler</th>\n",
       "      <th>wickets</th>\n",
       "    </tr>\n",
       "  </thead>\n",
       "  <tbody>\n",
       "    <tr>\n",
       "      <th>0</th>\n",
       "      <td>SL Malinga</td>\n",
       "      <td>170</td>\n",
       "    </tr>\n",
       "    <tr>\n",
       "      <th>1</th>\n",
       "      <td>A Mishra</td>\n",
       "      <td>156</td>\n",
       "    </tr>\n",
       "    <tr>\n",
       "      <th>2</th>\n",
       "      <td>Harbhajan Singh</td>\n",
       "      <td>150</td>\n",
       "    </tr>\n",
       "    <tr>\n",
       "      <th>3</th>\n",
       "      <td>PP Chawla</td>\n",
       "      <td>149</td>\n",
       "    </tr>\n",
       "    <tr>\n",
       "      <th>4</th>\n",
       "      <td>DJ Bravo</td>\n",
       "      <td>147</td>\n",
       "    </tr>\n",
       "    <tr>\n",
       "      <th>5</th>\n",
       "      <td>B Kumar</td>\n",
       "      <td>133</td>\n",
       "    </tr>\n",
       "    <tr>\n",
       "      <th>6</th>\n",
       "      <td>R Ashwin</td>\n",
       "      <td>125</td>\n",
       "    </tr>\n",
       "    <tr>\n",
       "      <th>7</th>\n",
       "      <td>SP Narine</td>\n",
       "      <td>122</td>\n",
       "    </tr>\n",
       "    <tr>\n",
       "      <th>8</th>\n",
       "      <td>UT Yadav</td>\n",
       "      <td>119</td>\n",
       "    </tr>\n",
       "    <tr>\n",
       "      <th>9</th>\n",
       "      <td>RA Jadeja</td>\n",
       "      <td>108</td>\n",
       "    </tr>\n",
       "  </tbody>\n",
       "</table>\n",
       "</div>"
      ],
      "text/plain": [
       "            bowler  wickets\n",
       "0       SL Malinga      170\n",
       "1         A Mishra      156\n",
       "2  Harbhajan Singh      150\n",
       "3        PP Chawla      149\n",
       "4         DJ Bravo      147\n",
       "5          B Kumar      133\n",
       "6         R Ashwin      125\n",
       "7        SP Narine      122\n",
       "8         UT Yadav      119\n",
       "9        RA Jadeja      108"
      ]
     },
     "execution_count": 57,
     "metadata": {
      "tags": []
     },
     "output_type": "execute_result"
    }
   ],
   "source": [
    "# Lets find top 10 Bowlers now\n",
    "\n",
    "bowlers_sort = bowlers.sort_values(\"wickets\", ascending = False, ignore_index=True, )\n",
    "bowlers_sort.head(10)"
   ]
  },
  {
   "cell_type": "code",
   "execution_count": null,
   "id": "8b501fb5",
   "metadata": {
    "id": "effective-implement",
    "outputId": "0f79ca42-cc02-4c41-afd7-9517c4a18820"
   },
   "outputs": [
    {
     "name": "stdout",
     "output_type": "stream",
     "text": [
      "<class 'pandas.core.series.Series'>\n",
      "<class 'pandas.core.series.Series'>\n"
     ]
    }
   ],
   "source": [
    "bowlers_sort_seriesx = bowlers_sort['bowler'].squeeze()\n",
    "bowlers_sort_seriesy = bowlers_sort['wickets'].squeeze()\n",
    "print(type(bowlers_sort_seriesx))\n",
    "print(type(bowlers_sort_seriesy))"
   ]
  },
  {
   "cell_type": "code",
   "execution_count": null,
   "id": "146eab06",
   "metadata": {
    "id": "typical-nickname",
    "outputId": "d932785d-5b16-4578-e31c-fcf28efed7b4"
   },
   "outputs": [
    {
     "data": {
      "image/png": "[encoded data removed]",
      "text/plain": [
       "<Figure size 720x360 with 1 Axes>"
      ]
     },
     "metadata": {
      "needs_background": "light",
      "tags": []
     },
     "output_type": "display_data"
    }
   ],
   "source": [
    "#Lets Visualize the above data into Graphics\n",
    "\n",
    "x = bowlers_sort_seriesx.head(10)\n",
    "y = bowlers_sort_seriesy.head(10)\n",
    "\n",
    "plt.figure(figsize=(10,5))\n",
    "\n",
    "plt.barh(x,y,color=[\"lightgreen\",\"lightblue\",\"lightblue\",\"lightblue\",\"lightblue\",\"lightblue\",\"lightblue\",\"lightblue\",\"lightblue\",\"lightgray\"],edgecolor=\"red\")\n",
    "\n",
    "for x,y in enumerate(y):\n",
    "    plt.text(y,x,str(y))\n",
    "\n",
    "plt.xlabel(\"Wickets Taken\",fontsize=13)\n",
    "plt.ylabel(\"Bowler Names\",fontsize=13)\n",
    "plt.title(\"Top 10 Bowlers Analysis\", fontsize=15)\n",
    "plt.show()"
   ]
  },
  {
   "cell_type": "code",
   "execution_count": null,
   "id": "a540de71",
   "metadata": {
    "id": "adjustable-discovery"
   },
   "outputs": [],
   "source": []
  }
 ],
 "metadata": {
  "colab": {
   "collapsed_sections": [
    "italic-queen",
    "latin-newman",
    "convertible-indiana",
    "promising-border",
    "baking-namibia",
    "affected-cathedral",
    "relative-exploration",
    "middle-reporter",
    "occupational-weekend",
    "destroyed-contemporary",
    "sexual-hamilton",
    "opening-privacy",
    "martial-disclaimer",
    "mechanical-checklist",
    "joined-korean",
    "together-indication",
    "designing-walnut"
   ],
   "name": "Exploratory Data Analysis - Sports (Task 5).ipynb",
   "provenance": []
  },
  "kernelspec": {
   "display_name": "Python 3",
   "language": "python",
   "name": "python3"
  },
  "language_info": {
   "codemirror_mode": {
    "name": "ipython",
    "version": 3
   },
   "file_extension": ".py",
   "mimetype": "text/x-python",
   "name": "python",
   "nbconvert_exporter": "python",
   "pygments_lexer": "ipython3",
   "version": "3.8.9"
  }
 },
 "nbformat": 4,
 "nbformat_minor": 5
}
